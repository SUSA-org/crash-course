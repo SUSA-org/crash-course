{
 "cells": [
  {
   "cell_type": "markdown",
   "metadata": {},
   "source": [
    "# **Git**"
   ]
  },
  {
   "cell_type": "markdown",
   "metadata": {},
   "source": [
    "## Some Prerequisites"
   ]
  },
  {
   "cell_type": "markdown",
   "metadata": {},
   "source": [
    "Before we start, make sure you have **Git** and **Atom** installed."
   ]
  },
  {
   "cell_type": "markdown",
   "metadata": {},
   "source": [
    "If you are on Mac, you will most likely have it already installed. Run the following command to check: "
   ]
  },
  {
   "cell_type": "code",
   "execution_count": 2,
   "metadata": {},
   "outputs": [
    {
     "name": "stdout",
     "output_type": "stream",
     "text": [
      "git version 2.11.1\r\n"
     ]
    }
   ],
   "source": [
    "!git --version"
   ]
  },
  {
   "cell_type": "markdown",
   "metadata": {},
   "source": [
    "If you are on Windows, see: https://gitforwindows.org/\n",
    "If you are on Linux, see: https://git-scm.com/download/linux"
   ]
  },
  {
   "cell_type": "markdown",
   "metadata": {},
   "source": [
    "Next, install **Atom**: https://atom.io/"
   ]
  },
  {
   "cell_type": "markdown",
   "metadata": {},
   "source": [
    "# What is Git?\n",
    "<hr>"
   ]
  },
  {
   "cell_type": "markdown",
   "metadata": {},
   "source": [
    "If you've used Google Docs before, you're already familiar with a version control system for editing files. In Google Docs, you can go back to the history of versions for a document, and easily restore a prior version if you make a lot of unwanted changes. Google Docs even tells you who edited which portions of each version, so you can contact the right people for large documents.\n",
    "\n",
    "Git is also a version control program, but is much older and more versatile. Whereas Google Docs stores version history for specific documents, Git stores version history for entire projects (known as Git <b>repositories </b>). Unlike Google Docs, Git allows you to make <b>branches</b>, or named working versions of a project, and you can quickly switch between them, remotely or locally. This <i>branching</i> feature is illustrated by the Git logo: "
   ]
  },
  {
   "cell_type": "markdown",
   "metadata": {},
   "source": [
    "![](git-logo.png)"
   ]
  },
  {
   "cell_type": "markdown",
   "metadata": {},
   "source": [
    "## A quick example\n",
    "To give you a more concrete idea of what branching is used for, here's an illustrative example.\n",
    "\n",
    "Suppose you and your friend are working on a state-of-the-art Kaggle model. You have been working with your friend to make a basic model, storing it in the default Git branch, `master`. Now, you and your friend have a couple of different ideas on how to improve it further. You both want to start working on making a better model, and then compare which prototype performs better, but you don't want to get in the way of each other's work. So, you make a branch named `xg_boost`, and your friend makes a branch named `clockwork_rnn`. That way, both of you can independently work off of the same base code, without overwriting or affecting each other's branches."
   ]
  },
  {
   "cell_type": "markdown",
   "metadata": {},
   "source": [
    "If your model proves to be superior, you can merge your `xg_boost` branch into the `master` branch, and you can both work off of your new model. Alternatively, if your friend's model performs better, they can merge their `clockwork_rnn` branch into the `master` branch and you and your friend can work on that new model together. As one last possibility, suppose neither the `xg_boost` model nor the `clockwork_rnn` model outperform the model in the master branch. Then, you can both easily switch back to the `master` branch with a single command, and try new ideas without skipping a beat. This is the value of Git, especially for complex or group projects."
   ]
  },
  {
   "cell_type": "markdown",
   "metadata": {},
   "source": [
    "# Git vs GitHub\n",
    "<hr>\n",
    "<code>git</code> is the command-line program that allows you to make use of the Git version control system. However, Git operates by default locally - that is, just offline on your computer. In order to actually share your code with others, you have to use a service like <b>Github</b> or <b>Bitbucket</b>. They both work very similarily, and basically allow you to upload your code to an online <i>repository</i> in the cloud.\n",
    "\n",
    "The standard workflow is to work on your code locally, using <code>git</code> for version control, but when you want to <b>push</b> the latest functioning version of your code, you can upload it to the cloud maintained by Github/Bitbucket. Then, even friends who aren't located nearby geographically can <b>pull</b> your online code to their local computers, and work on your project remotely, pushing their own updates when needed."
   ]
  },
  {
   "cell_type": "markdown",
   "metadata": {},
   "source": [
    "# Installing Git\n",
    "<hr>\n",
    "You can install Git by visiting this link to [Downloads](https://git-scm.com/downloads) of the official [Git Website](https://git-scm.com/)"
   ]
  },
  {
   "cell_type": "markdown",
   "metadata": {
    "ExecuteTime": {
     "end_time": "2018-09-03T16:01:02.199470Z",
     "start_time": "2018-09-03T16:01:02.150545Z"
    }
   },
   "source": [
    "# Using Git Locally\n",
    "<hr>\n",
    "We are now going to dive into how to use <code>git</code>! Don't worry, there are just a few basic commands, and once you get used to the workflow, it will feel painless and natural.\n",
    "\n",
    "<i>Note: for this section of the tutorial, the examples will be run in a demo repository in <code>cl0-ws</code> called <code>demo-repo</code></i>"
   ]
  },
  {
   "cell_type": "markdown",
   "metadata": {},
   "source": [
    "## <code> git init </code>"
   ]
  },
  {
   "cell_type": "markdown",
   "metadata": {},
   "source": [
    "First, we're going to learn how to actually make a <b>Git repository</b>. A <i>repository</i> (aka repo) is essentially a folder/directory that you specially indicate as being attached to a version control system. First, let's make a demo folder and copy some files into it: "
   ]
  },
  {
   "cell_type": "markdown",
   "metadata": {},
   "source": [
    "<code>cd ~\n",
    "mkdir git-workshop && cd git-workshop\n",
    "echo \"Hello World\" > hello.txt\n",
    "</code>"
   ]
  },
  {
   "cell_type": "markdown",
   "metadata": {
    "ExecuteTime": {
     "end_time": "2018-09-03T16:08:44.231764Z",
     "start_time": "2018-09-03T16:08:44.200901Z"
    }
   },
   "source": [
    "To initialize a directory as a repo, navigate to the folder in question and run:"
   ]
  },
  {
   "cell_type": "markdown",
   "metadata": {
    "ExecuteTime": {
     "end_time": "2018-09-03T16:09:01.918196Z",
     "start_time": "2018-09-03T16:09:01.909642Z"
    }
   },
   "source": [
    "<code>git init<code>"
   ]
  },
  {
   "cell_type": "markdown",
   "metadata": {},
   "source": [
    "## <code>git status</code>, <code>git add</code> and <code>git commit</code>"
   ]
  },
  {
   "cell_type": "markdown",
   "metadata": {},
   "source": [
    "Now, let's record our files into the version control system. "
   ]
  },
  {
   "cell_type": "markdown",
   "metadata": {},
   "source": [
    "<code>git status</code>"
   ]
  },
  {
   "cell_type": "markdown",
   "metadata": {},
   "source": [
    "This command should show that the file <code>hello.txt</code> is untracked. In order to have Git control this file, we use <code>git add</code>"
   ]
  },
  {
   "cell_type": "markdown",
   "metadata": {},
   "source": [
    "<code>git add</code> will tell Git to track your files, or prime them to be \"stamped\" as a major step in development later in the <code>git commit</code> step. You usually just <code>add</code> the files that have changed since the last <code>commit</code>, or just the files that you want to track. Alternatively, you can <code>add</code> all the files that are in your repo with the <code>-A</code> option argument. Let's add all our files to be tracked."
   ]
  },
  {
   "cell_type": "markdown",
   "metadata": {},
   "source": [
    "<code>git add -A</code>"
   ]
  },
  {
   "cell_type": "markdown",
   "metadata": {},
   "source": [
    "<code>git commit</code> is then used to make a named record of your work so far. All commits require a message to be attached, to describe what's changed since the last version. If you simply run <code>git commit</code>, Git will automatically open up your default command-line text editor to force you to enter a message, which can be a pain to work with. For quick messages, you can use the <code>-m</code> option command to give a message as a string. Let's commit our newly <code>add</code>ed files:"
   ]
  },
  {
   "cell_type": "markdown",
   "metadata": {},
   "source": [
    "<code>git commit -m \"My first commit\"</code>"
   ]
  },
  {
   "cell_type": "markdown",
   "metadata": {},
   "source": [
    "As you can see, we've successfully tracked and committed the 4 files that we added to the empty repo.\n"
   ]
  },
  {
   "cell_type": "markdown",
   "metadata": {},
   "source": [
    "## <code>git branch</code> and <code>git merge</code>"
   ]
  },
  {
   "cell_type": "markdown",
   "metadata": {},
   "source": [
    "Now, we're going to give a brief illustration of how to use Git's branching mechanism. Let's make a new <i>branch</i>, edit a file, and then <i>merge<i> that branch back into the <code>master</code> branch."
   ]
  },
  {
   "cell_type": "markdown",
   "metadata": {},
   "source": [
    "To open a new Git branch, use `git checkout -b <new_branch_name>`. Let's make a branch called <code>dev<code>.\n"
   ]
  },
  {
   "cell_type": "markdown",
   "metadata": {},
   "source": [
    "`\n",
    "cd ~/git-workshop\n",
    "git checkout -b dev\n",
    "`"
   ]
  },
  {
   "cell_type": "markdown",
   "metadata": {},
   "source": [
    "If you run <code>git branch</code> without any arguments, Git will display all the branches currently associated with this repo. What are all the branches in our case?"
   ]
  },
  {
   "cell_type": "markdown",
   "metadata": {},
   "source": [
    "<code>* master\n",
    "dev</code>"
   ]
  },
  {
   "cell_type": "markdown",
   "metadata": {},
   "source": [
    "Notice the <code>*</code> next to the <code>master</code> branch - this indicates we are still on the <code>master</code> branch.\n"
   ]
  },
  {
   "cell_type": "markdown",
   "metadata": {},
   "source": [
    "Now, we're ready to make some changes without it affecting our <code>master</code> branch. Let's rewrite the contents of <code>cx-is-awesome.txt<code>."
   ]
  },
  {
   "cell_type": "markdown",
   "metadata": {},
   "source": [
    "<code>echo \"Hello, Berkeley\" > hello.txt </code>"
   ]
  },
  {
   "cell_type": "markdown",
   "metadata": {},
   "source": [
    "Let's <code>add</code> and <code>commit</code> our changes. A quick shortcut to do this is the <code>-a</code> option argument of <code>git commit<code>, which automatically adds all changed files, and then commits them."
   ]
  },
  {
   "cell_type": "markdown",
   "metadata": {},
   "source": [
    "<code>git commit -am \"Made a few changes for this demo\"</code> <-- \"-am\" is the same as doing \"-a\" and \"-m\""
   ]
  },
  {
   "cell_type": "markdown",
   "metadata": {},
   "source": [
    "If we <code>cat</code> (display the contents of) the <code>hello.txt</code> file in our <code>demo_branch</code>, we see that it has in fact be overwritten:\n"
   ]
  },
  {
   "cell_type": "markdown",
   "metadata": {},
   "source": [
    "<code>cat hello.txt</code>"
   ]
  },
  {
   "cell_type": "markdown",
   "metadata": {},
   "source": [
    "However, if we switch back to the <code>master</code> branch, we find that our old version of <code>hello.txt</code> is still available once we're on that branch."
   ]
  },
  {
   "cell_type": "markdown",
   "metadata": {},
   "source": [
    "<code>git checkout master\n",
    "cat hello.txt</code>"
   ]
  },
  {
   "cell_type": "markdown",
   "metadata": {},
   "source": [
    "Suppose we're satisfied with our work in the <code>dev</code>, and now want to officiate it by merging it back with the <code>master</code> branch. To do this, we use the <code>git merge</code> command. The syntax `git merge <branch>` will merge the `<branch>` branch with the branch you are currently on. Right now, we're on the master branch <i>(Quiz: how do we know that we are currently on <code>master</code>? How can we double-check which branch we are on?)</i>, so we run the following command to merge our <code>demo_branch</code> with the <code>master</code> branch:"
   ]
  },
  {
   "cell_type": "markdown",
   "metadata": {},
   "source": [
    "<code>git merge dev</code>"
   ]
  },
  {
   "cell_type": "markdown",
   "metadata": {},
   "source": [
    "<i>(Notice the <code>Fast-forward</code> description to this merge - there are several types of merges Git uses, and this one is the most basic - we simply fast-forward to the changes of the <code>demo_branch</code>. You can learn about the other types of merges in the section below.)</i>"
   ]
  },
  {
   "cell_type": "markdown",
   "metadata": {},
   "source": [
    "# Using Git Remotely\n",
    "<hr>\n",
    "Now that we've covered the basics of how Git works locally, let's make use of it's cloud-interfacing abilities. First, let's <code>push</code> our local <code>git-workshop</code> <code>master</code> branch to Github. We must first make an empty <b>Github</b> remote repository on the Github website, then <code>push</code> our local repo onto it."
   ]
  },
  {
   "cell_type": "markdown",
   "metadata": {},
   "source": [
    "## <code>git push</code>"
   ]
  },
  {
   "cell_type": "markdown",
   "metadata": {},
   "source": [
    "<code>git push</code> has a very simple syntax for pushing local repositories to remote repositories - `git push <remote_repo_url> <local_branch_name>` will push the `<local_branch_name>` branch into the remote repository at `<remote_repo_url>`. (By default, if no `<local_branch_name>` is given, the default is the current branch) Let's push our <code>demo-repo</code>'s <code>master</code> branch into the remote <code>git-demo<code> repository:"
   ]
  },
  {
   "cell_type": "markdown",
   "metadata": {},
   "source": [
    "First, we must tell Git to push commits to our repository on GitHub. In order to do so, set up a **remote** as follows:"
   ]
  },
  {
   "cell_type": "markdown",
   "metadata": {},
   "source": [
    "<code>git remote add origin {repository URL}</code>"
   ]
  },
  {
   "cell_type": "markdown",
   "metadata": {},
   "source": [
    "Now you can run:"
   ]
  },
  {
   "cell_type": "markdown",
   "metadata": {},
   "source": [
    "<code>git push origin master</code>"
   ]
  },
  {
   "cell_type": "markdown",
   "metadata": {
    "ExecuteTime": {
     "end_time": "2018-09-03T16:59:46.318812Z",
     "start_time": "2018-09-03T16:59:46.249755Z"
    }
   },
   "source": [
    "## <code>git pull</code>"
   ]
  },
  {
   "cell_type": "markdown",
   "metadata": {},
   "source": [
    "Finally, we're going to cover the other command for working with remote repositories, <code>git pull</code>. To <code>fetch</code> and automatically <code>merge</code> any changes in the remote repo that aren't yet in your local repo, use the syntax `git pull <remote_repo_url> <remote_branch_name>`. (Again, by default if no `<remote_branch_name>` is specified, Git will try to guess which branch is associated with your current branch). Let's <code>pull</code> from our remote repository in case any changes have been made to it that we aren't aware of locally."
   ]
  },
  {
   "cell_type": "markdown",
   "metadata": {},
   "source": [
    "<code>cd ~/git-workshop\n",
    "git pull origin master</code>"
   ]
  },
  {
   "cell_type": "markdown",
   "metadata": {},
   "source": [
    "## <code>git clone</code>"
   ]
  },
  {
   "cell_type": "markdown",
   "metadata": {},
   "source": [
    "An alternative to making a local repo and then pulling remote files to it is to <code>clone</code> a remote repo directly as a new local repo on your computer. The <code>git clone</code> syntax is as follows: `git clone <remote_repo_url> <local_repo_name>`. (By default, if no `<local_repo_name>` is specified, Git will give the local repo the same name as the remote repo)."
   ]
  },
  {
   "cell_type": "markdown",
   "metadata": {},
   "source": [
    "To <code>clone</code> all of the [SUSA crash-course tutorials](https://github.com/SUSA-org/crash-course) (including this one!) to your computer, run the following command in whichever directory you want to store the repo in:"
   ]
  },
  {
   "cell_type": "markdown",
   "metadata": {},
   "source": [
    "<code>cd ~\n",
    "mkdir susa-crash-course && cd susa-crash-course\n",
    "git clone https://github.com/SUSA-org/crash-course.git </code>"
   ]
  },
  {
   "cell_type": "markdown",
   "metadata": {},
   "source": [
    "# Merge Conflicts"
   ]
  },
  {
   "cell_type": "markdown",
   "metadata": {},
   "source": [
    "Scenario: you are working with a friend on a repository (on GitHub). You update a file on your branch, <code>dev</code>, and try to merge it into <code>master</code>, but your friend already updated the file there!\n",
    "\n",
    "Git now has two commits (versions) of your files: one that you are trying to update and push to <code>master</code>, and one that was already pushed to <code>master</code> when you were working! This is called a **merge conflict**."
   ]
  },
  {
   "cell_type": "markdown",
   "metadata": {},
   "source": [
    "![](merge-conflict.png)"
   ]
  },
  {
   "cell_type": "markdown",
   "metadata": {},
   "source": [
    "Let's create this scenario: "
   ]
  },
  {
   "cell_type": "markdown",
   "metadata": {},
   "source": [
    "<code>cd ~/git-workshop\n",
    "git checkout -b evil\n",
    "git checkout master\n",
    "echo \"Hello Cal\" > hello.txt\n",
    "git commit -am \"made 'hello.txt' more concise\"\n",
    "\n",
    "git checkout evil\n",
    "echo \"dlrow olleh\" > hello.txt\n",
    "git commit -am \"hehe\"\n",
    "git checkout master\n",
    "\n",
    "git merge evil master</code>"
   ]
  },
  {
   "cell_type": "markdown",
   "metadata": {},
   "source": [
    "You should see:\n",
    "<code>\n",
    "Auto-merging hello.txt\n",
    "CONFLICT (content): Merge conflict in hello.txt\n",
    "Automatic merge failed; fix conflicts and then commit the result.\n",
    "</code>"
   ]
  },
  {
   "cell_type": "markdown",
   "metadata": {},
   "source": [
    "Thankfully, **Atom** has very good support for merge conflicts. Open your <code>git-workshop</code> repository in Atom, manually or by using the following command:"
   ]
  },
  {
   "cell_type": "markdown",
   "metadata": {},
   "source": [
    "<code>cd ~/git-workshop\n",
    "atom .\n",
    "</code>"
   ]
  },
  {
   "cell_type": "markdown",
   "metadata": {},
   "source": [
    "After you're done fixing the merge conflict, run:"
   ]
  },
  {
   "cell_type": "markdown",
   "metadata": {},
   "source": [
    "<code>git commit -am \"fixed merge\""
   ]
  },
  {
   "cell_type": "markdown",
   "metadata": {},
   "source": [
    "# Additional Readings\n",
    "<hr>\n",
    "<ul>\n",
    "  <li>For more information on the command-line shell, visit the [Linux Command Line Guide](http://linuxcommand.org/lc3_learning_the_shell.php)</li>\n",
    "  <li>For more information on how to use Git, visit the official [Pro Git Book](https://git-scm.com/book/en/v2)</li>\n",
    "  <li>There is also a Git quick-guide cheatsheet, available [here](https://services.github.com/on-demand/downloads/github-git-cheat-sheet.pdf)</li>\n",
    "</ul>"
   ]
  }
 ],
 "metadata": {
  "kernelspec": {
   "display_name": "Python (deeplearning)",
   "language": "python",
   "name": "deeplearning"
  },
  "language_info": {
   "codemirror_mode": {
    "name": "ipython",
    "version": 3
   },
   "file_extension": ".py",
   "mimetype": "text/x-python",
   "name": "python",
   "nbconvert_exporter": "python",
   "pygments_lexer": "ipython3",
   "version": "3.6.3"
  }
 },
 "nbformat": 4,
 "nbformat_minor": 2
}
