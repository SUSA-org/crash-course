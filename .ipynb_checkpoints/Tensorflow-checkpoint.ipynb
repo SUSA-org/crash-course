{
 "cells": [
  {
   "cell_type": "markdown",
   "metadata": {},
   "source": [
    "# Using Tensorflow\n",
    "\n",
    "---\n",
    "\n",
    "This is a quick primer on setting up clean computational graphs, and how to execute them.\n",
    "\n",
    "The following commands will be covered in a practical manner.\n",
    "\n",
    "* tf.Session\n",
    "    * tf.Session.eval(TENSOR)\n",
    "    * tf.Session(graph=g)\n",
    "* tf.Graph\n",
    "* tf.placeholder\n",
    "* tf.constant\n",
    "* tf.Variable\n",
    "\n",
    ":) Yeah that's pretty much it"
   ]
  },
  {
   "cell_type": "code",
   "execution_count": 1,
   "metadata": {
    "scrolled": true
   },
   "outputs": [],
   "source": [
    "import tensorflow as tf"
   ]
  },
  {
   "cell_type": "code",
   "execution_count": 2,
   "metadata": {},
   "outputs": [
    {
     "data": {
      "text/plain": [
       "'1.3.0'"
      ]
     },
     "execution_count": 2,
     "metadata": {},
     "output_type": "execute_result"
    }
   ],
   "source": [
    "tf.__version__"
   ]
  },
  {
   "cell_type": "markdown",
   "metadata": {},
   "source": [
    "## How to use Tensorflow?\n",
    "\n",
    "Tensorflow is a library written mostly in C/C++, or a special GPU-specific language called CUDA/CuDNN, that creates a *static computation graph* with a Python API.\n",
    "\n",
    "What does this mean?\n",
    "\n",
    "It means we can write code in Python to run complex operations repetitively using Tensorflow. Major constraint: the organization has to have a static structure, meaning you have to specify __*clearly*__ where the inputs are.\n",
    "\n",
    "How does this affect the coding?\n",
    "\n",
    "Creation of tensorflow program is basically unusable by anyone outside of the creators **UNLESS** the tensors are named in an organized manner. Otherwise debugging someone else's tensorflow code will create a clinical level migraine."
   ]
  },
  {
   "cell_type": "code",
   "execution_count": 3,
   "metadata": {},
   "outputs": [],
   "source": [
    "import numpy as np\n",
    "# this is what I call pyenglish\n",
    "# interjecting language with import statements"
   ]
  },
  {
   "cell_type": "markdown",
   "metadata": {},
   "source": [
    "## Using tensorflow: Sessions and Constants\n",
    "\n",
    "Tensorflow creates Sessions to manage the actual memory associated with various computational graphs and their executions. One can create different computational graphs with a single session, but to execute any specific part of a given computational graph, one needs a session.\n",
    "\n",
    "What does this mean?\n",
    "\n",
    "To run a Tensorflow program, we need to specify the parts, name them, and put them together––and then create a session to get the values of the different parts (tensors)."
   ]
  },
  {
   "cell_type": "code",
   "execution_count": 4,
   "metadata": {},
   "outputs": [],
   "source": [
    "\"\"\"Let's create a line!\n",
    "Line form:\n",
    "y = Ax + b\n",
    "A - slope of 1\n",
    "b - bias of -1\"\"\"\n",
    "\n",
    "A = tf.constant([1], dtype=tf.float32)\n",
    "b = tf.constant([-1],dtype=tf.float32)\n",
    "x = tf.placeholder(shape=[1],dtype=tf.float32)\n",
    "\n",
    "y = A*x + b\n",
    "\n",
    "sess = tf.Session()\n",
    "out = sess.run(y, feed_dict={x:[1]})"
   ]
  },
  {
   "cell_type": "markdown",
   "metadata": {},
   "source": [
    "## Evaluating\n",
    "\n",
    "\n",
    "In order to evaluate the output of an operation (or to simply return the value of a tensor –– these are equivalent processes) Tensorflow sessions require input data to be passed into a `feed_dict` parameter to `sess.eval`\n",
    "\n",
    "There are two ways to pass in data as input tensors. There are two parts: _the key_, and the actual data.\n",
    "\n",
    "The trickier part by far is passing in the right keys to the input tensors.\n",
    "\n",
    "1. Pass the symbolic variable containing the tensor as a key, and the data as the value\n",
    "\n",
    "\n",
    "```python\n",
    "input_tensor = tf.placeholder(...)\n",
    "\n",
    "feed_dict = {\n",
    "    input_tensor: input_data\n",
    "}\n",
    "```\n",
    "\n",
    "2. Pass a string corresponding the name of the tensor, and the 'input' operation. This only works if the input tensor has a name (or you know the default name). The format is \"{tensor_name}:{0}\" for assigning values to tensors.\n",
    "\n",
    "```python\n",
    "input_tensor = tf.placeholder(..., name=\"x_input\")\n",
    "\n",
    "feed_dict = {\n",
    "    \"x_input:0\": input_data\n",
    "}\n",
    "```\n",
    "\n",
    "We make sure to name our input tensors so that we can use method #2 whenever possible, that way we don't have to keep track of the symbolic instance. This sort of workaround probably won't be deprecated in future updates because this makes use of the internal representation of the computational graph. But I could be wrong.\n",
    "\n",
    "#### Takeaway : NAME YOUR TENSORS"
   ]
  },
  {
   "cell_type": "code",
   "execution_count": 5,
   "metadata": {},
   "outputs": [],
   "source": [
    "out = []\n",
    "for i in range(100):\n",
    "    # Here we \n",
    "    y_hat = sess.run(y, feed_dict = {x: [i]})\n",
    "    out.append(y_hat)"
   ]
  },
  {
   "cell_type": "code",
   "execution_count": 6,
   "metadata": {},
   "outputs": [
    {
     "data": {
      "image/png": "[encoded data removed]",
      "text/plain": [
       "<matplotlib.figure.Figure at 0x116260208>"
      ]
     },
     "metadata": {},
     "output_type": "display_data"
    }
   ],
   "source": [
    "import matplotlib.pyplot as plt\n",
    "%matplotlib inline\n",
    "plt.plot(list(range(100)),out)\n",
    "plt.show()"
   ]
  },
  {
   "cell_type": "markdown",
   "metadata": {},
   "source": [
    "## Fitting a Line\n",
    "\n",
    "First, some noisy data. We are going to stick with regression examples here because they are easy to visualize. But maybe we'll do n-dimensional visualization later.\n",
    "\n",
    "We'll be fitting a line using A•x + b = y_hat"
   ]
  },
  {
   "cell_type": "code",
   "execution_count": 7,
   "metadata": {},
   "outputs": [
    {
     "data": {
      "image/png": "[encoded data removed]",
      "text/plain": [
       "<matplotlib.figure.Figure at 0x116ea3240>"
      ]
     },
     "metadata": {},
     "output_type": "display_data"
    }
   ],
   "source": [
    "x = np.linspace(-2, 2, num=1000)\n",
    "noise = np.random.randn(1000) * 2\n",
    "slope = np.pi**2-np.exp(-1)\n",
    "bias = 3.219230\n",
    "\n",
    "ys = slope*x+noise+bias\n",
    "\n",
    "plt.scatter(x, ys)\n",
    "plt.show()"
   ]
  },
  {
   "cell_type": "code",
   "execution_count": 8,
   "metadata": {},
   "outputs": [
    {
     "name": "stdout",
     "output_type": "stream",
     "text": [
      "Help on function linspace in module numpy.core.function_base:\n",
      "\n",
      "linspace(start, stop, num=50, endpoint=True, retstep=False, dtype=None)\n",
      "    Return evenly spaced numbers over a specified interval.\n",
      "    \n",
      "    Returns `num` evenly spaced samples, calculated over the\n",
      "    interval [`start`, `stop`].\n",
      "    \n",
      "    The endpoint of the interval can optionally be excluded.\n",
      "    \n",
      "    Parameters\n",
      "    ----------\n",
      "    start : scalar\n",
      "        The starting value of the sequence.\n",
      "    stop : scalar\n",
      "        The end value of the sequence, unless `endpoint` is set to False.\n",
      "        In that case, the sequence consists of all but the last of ``num + 1``\n",
      "        evenly spaced samples, so that `stop` is excluded.  Note that the step\n",
      "        size changes when `endpoint` is False.\n",
      "    num : int, optional\n",
      "        Number of samples to generate. Default is 50. Must be non-negative.\n",
      "    endpoint : bool, optional\n",
      "        If True, `stop` is the last sample. Otherwise, it is not included.\n",
      "        Default is True.\n",
      "    retstep : bool, optional\n",
      "        If True, return (`samples`, `step`), where `step` is the spacing\n",
      "        between samples.\n",
      "    dtype : dtype, optional\n",
      "        The type of the output array.  If `dtype` is not given, infer the data\n",
      "        type from the other input arguments.\n",
      "    \n",
      "        .. versionadded:: 1.9.0\n",
      "    \n",
      "    Returns\n",
      "    -------\n",
      "    samples : ndarray\n",
      "        There are `num` equally spaced samples in the closed interval\n",
      "        ``[start, stop]`` or the half-open interval ``[start, stop)``\n",
      "        (depending on whether `endpoint` is True or False).\n",
      "    step : float, optional\n",
      "        Only returned if `retstep` is True\n",
      "    \n",
      "        Size of spacing between samples.\n",
      "    \n",
      "    \n",
      "    See Also\n",
      "    --------\n",
      "    arange : Similar to `linspace`, but uses a step size (instead of the\n",
      "             number of samples).\n",
      "    logspace : Samples uniformly distributed in log space.\n",
      "    \n",
      "    Examples\n",
      "    --------\n",
      "    >>> np.linspace(2.0, 3.0, num=5)\n",
      "    array([ 2.  ,  2.25,  2.5 ,  2.75,  3.  ])\n",
      "    >>> np.linspace(2.0, 3.0, num=5, endpoint=False)\n",
      "    array([ 2. ,  2.2,  2.4,  2.6,  2.8])\n",
      "    >>> np.linspace(2.0, 3.0, num=5, retstep=True)\n",
      "    (array([ 2.  ,  2.25,  2.5 ,  2.75,  3.  ]), 0.25)\n",
      "    \n",
      "    Graphical illustration:\n",
      "    \n",
      "    >>> import matplotlib.pyplot as plt\n",
      "    >>> N = 8\n",
      "    >>> y = np.zeros(N)\n",
      "    >>> x1 = np.linspace(0, 10, N, endpoint=True)\n",
      "    >>> x2 = np.linspace(0, 10, N, endpoint=False)\n",
      "    >>> plt.plot(x1, y, 'o')\n",
      "    [<matplotlib.lines.Line2D object at 0x...>]\n",
      "    >>> plt.plot(x2, y + 0.5, 'o')\n",
      "    [<matplotlib.lines.Line2D object at 0x...>]\n",
      "    >>> plt.ylim([-0.5, 1])\n",
      "    (-0.5, 1)\n",
      "    >>> plt.show()\n",
      "\n"
     ]
    }
   ],
   "source": [
    "# Side note - this is a great way to look at docs for any given function\n",
    "help(np.linspace)"
   ]
  },
  {
   "cell_type": "markdown",
   "metadata": {},
   "source": [
    "Now we'll write in some extra Tensorflow code to model the line. \n",
    "\n",
    "However, to do so, we'll need to construct a new computational graph. This can be done by explicitly declaring a graph to use in our session. \n",
    "\n",
    "```python\n",
    "graph = tf.Graph() # new graph\n",
    "\n",
    "with tf.Session(graph=graph) as sess: \n",
    "    # our new graph will be the default container for all subsequent operations\n",
    "    ...\n",
    "```\n"
   ]
  },
  {
   "cell_type": "code",
   "execution_count": 9,
   "metadata": {},
   "outputs": [
    {
     "name": "stderr",
     "output_type": "stream",
     "text": [
      "/Users/codetesting/anaconda/envs/Kaggle/lib/python3.6/site-packages/matplotlib/figure.py:403: UserWarning: matplotlib is currently using a non-GUI backend, so cannot show the figure\n",
      "  \"matplotlib is currently using a non-GUI backend, \"\n"
     ]
    },
    {
     "name": "stdout",
     "output_type": "stream",
     "text": [
      "m:\t9.502\t\tm_hat:\t9.431\n",
      "b:\t3.219\t\tb_hat:\t3.076\n"
     ]
    },
    {
     "data": {
      "image/png": "[encoded data removed]",
      "text/plain": [
       "<matplotlib.figure.Figure at 0x116e68f28>"
      ]
     },
     "metadata": {},
     "output_type": "display_data"
    },
    {
     "data": {
      "image/png": "[encoded data removed]",
      "text/plain": [
       "<matplotlib.figure.Figure at 0x11778cd68>"
      ]
     },
     "metadata": {},
     "output_type": "display_data"
    }
   ],
   "source": [
    "with tf.Session(graph=tf.Graph()) as sess:\n",
    "    # Data Input\n",
    "    # ---------------------------------------------\n",
    "    x_in = tf.placeholder(tf.float32, name='x_input')\n",
    "    labels = tf.placeholder(tf.float32, name='y_input')\n",
    "    \n",
    "    # Variable Declaration\n",
    "    # ---------------------------------------------\n",
    "    m = tf.Variable(tf.random_normal([1]),name='slope')\n",
    "    b = tf.Variable(tf.random_normal([1]),name='bias')\n",
    "    \n",
    "    # Operations\n",
    "    # ---------------------------------------------\n",
    "    y_hat = x_in*m + b\n",
    "    loss = tf.losses.mean_squared_error(labels, y_hat)\n",
    "\n",
    "    # Optimizers & Initialization\n",
    "    # ---------------------------------------------\n",
    "    opt = tf.train.GradientDescentOptimizer(learning_rate=1e-3).minimize(loss)\n",
    "    init_op = tf.global_variables_initializer()\n",
    "    \n",
    "    # Execution\n",
    "    # ---------------------------------------------\n",
    "    sess.run(init_op)\n",
    "    \n",
    "    # Training\n",
    "    # ---------------------------------------------\n",
    "    \n",
    "    #   Visual code (Loss)\n",
    "    fig, ax = plt.subplots()\n",
    "    handles = []\n",
    "    legend_labels = []\n",
    "    \n",
    "    for i in range(3):\n",
    "        \"\"\"\n",
    "        i: the training cycle we are on (called an epoch)\n",
    "        For every training cycle, randomly permute the indices to the x & y data, and iteratively train on that.\n",
    "        This is called Stochatistic Gradient Descent. Hence we use the Gradient Descent Optimizer.\n",
    "        (Other optimizers won't work on this style of training LOL)\n",
    ".        \"\"\"\n",
    "        indices = np.random.permutation(len(x))\n",
    "        losses = []\n",
    "        for k in indices:\n",
    "            # The results of running each operation are returned into result = [result of opt, result of loss]\n",
    "            result = sess.run([opt,loss], feed_dict={x_in: [x[k]], labels: [ys[k]]})\n",
    "            \n",
    "            # Store the losses in an array for visualization\n",
    "            losses.append(result[1])\n",
    "        \n",
    "        # Some more visual code to plot the losses\n",
    "        line_handle, = ax.plot(list(range(len(x))),losses)\n",
    "        handles.append(line_handle)\n",
    "        legend_labels.append(\"Epoch {}\".format(i+1))\n",
    "    \n",
    "    #   Visual code (Loss)\n",
    "    fig.suptitle(\"Loss vs Time\")\n",
    "    ax.set_xlabel(\"Time\")\n",
    "    ax.set_ylabel(\"Loss\")\n",
    "    ax.legend(handles, legend_labels)\n",
    "    fig.show()\n",
    "    \n",
    "    # Visualizing\n",
    "    # ---------------------------------------------\n",
    "    print('m:\\t{0:4.3f}\\t\\tm_hat:\\t{1[0]:4.3f}'.format(slope,sess.run(m)))\n",
    "    print('b:\\t{0:4.3f}\\t\\tb_hat:\\t{1[0]:4.3f}'.format(bias,sess.run(b)))\n",
    "    \n",
    "    out = []\n",
    "    for dat in x:\n",
    "        out.append(sess.run(y_hat, feed_dict={x_in:[dat]}))\n",
    "    fig, ax = plt.subplots()\n",
    "    ax.scatter(x, ys)\n",
    "    ax.plot(x, out,color='black')\n",
    "    fig.suptitle(\"Evaluation\")\n",
    "    fig.show()"
   ]
  },
  {
   "cell_type": "markdown",
   "metadata": {},
   "source": [
    "# Your turn!\n",
    "\n",
    "We'll generate 3 dimensional data. Provide some infrastructure, and you'll be expected to fill in the rest!\n",
    "\n",
    "\n",
    "# Data (2 dimensional)"
   ]
  },
  {
   "cell_type": "code",
   "execution_count": 10,
   "metadata": {},
   "outputs": [
    {
     "name": "stdout",
     "output_type": "stream",
     "text": [
      "best solution\n",
      "m1: 3.88954\n",
      "m2: 3.88954\n",
      "m3: 1.0\n",
      "b: 0.043\n",
      "1.32669680797e-10\n"
     ]
    }
   ],
   "source": [
    "x1s = np.linspace(0,10, 1000)\n",
    "x2s = np.linspace(0,10, 1000)\n",
    "noise = np.random.randn(1000) \n",
    "true_bias = 0.043\n",
    "slope1 = 4.56004\n",
    "slope2 = 3.21904\n",
    "ys = x1s*slope1+ x2s*slope2+ x1s*x2s + true_bias # yes you will have to model the nonlinearity\n",
    "\n",
    "# Best Sol - Normal Eq\n",
    "A = np.ones((len(x1s)))\n",
    "x1x2s = x1s*x2s\n",
    "A = np.asarray([x1s, x2s, x1x2s, A]).T\n",
    "# print(A[:10])\n",
    "# lhs = A.T.dot(A)\n",
    "# rhs = A.T.dot(ys)\n",
    "# solution = np.linalg.solve(lhs,rhs)\n",
    "solution, c, _,__ = np.linalg.lstsq(A,ys)\n",
    "print('best solution')\n",
    "print('m1:',solution[0])\n",
    "print('m2:',solution[1])\n",
    "print('m3:',solution[2])\n",
    "print('b:',solution[3])\n",
    "print(np.sum(ys-np.matmul(A,solution)))"
   ]
  },
  {
   "cell_type": "code",
   "execution_count": 11,
   "metadata": {},
   "outputs": [],
   "source": [
    "def dont_forget():\n",
    "    plt.plot([-1]*2, [1, 3], color='black')\n",
    "    plt.plot([-2,-2], [-3, -0.2], color='black')\n",
    "    plt.plot([-0.5,-0.5], [-3, -0.2], color='black')\n",
    "    plt.plot([1,1],[0.5, 3.5],color='black')\n",
    "    plt.plot([2,2],[0.34, 2.5],color='black')\n",
    "    plt.plot([0.75]*2,[-3.29, -0.5],color='black')\n",
    "    plt.plot([1,3], [-3]*2, color='black')\n",
    "\n",
    "    axis = plt.gca()\n",
    "    axis.xaxis.set_visible(False)\n",
    "    axis.yaxis.set_visible(False)\n",
    "    axis.set_ylim([-4,4])\n",
    "    axis.set_xlim([-3,3.5])\n",
    "    plt.show()"
   ]
  },
  {
   "cell_type": "code",
   "execution_count": 12,
   "metadata": {},
   "outputs": [
    {
     "data": {
      "image/png": "[encoded data removed]",
      "text/plain": [
       "<matplotlib.figure.Figure at 0x116e9d128>"
      ]
     },
     "metadata": {},
     "output_type": "display_data"
    }
   ],
   "source": [
    "dont_forget()"
   ]
  },
  {
   "cell_type": "markdown",
   "metadata": {},
   "source": [
    "## Fill in the blanks, CS61a style"
   ]
  },
  {
   "cell_type": "code",
   "execution_count": 14,
   "metadata": {},
   "outputs": [
    {
     "name": "stderr",
     "output_type": "stream",
     "text": [
      "/Users/codetesting/anaconda/envs/Kaggle/lib/python3.6/site-packages/matplotlib/figure.py:403: UserWarning: matplotlib is currently using a non-GUI backend, so cannot show the figure\n",
      "  \"matplotlib is currently using a non-GUI backend, \"\n"
     ]
    },
    {
     "name": "stdout",
     "output_type": "stream",
     "text": [
      "m1:\t4.560\t\tm_hat1:\t4.108\n",
      "m2:\t3.219\t\tm_hat2:\t3.587\n",
      "m3:\t1.000\t\tm_hat3:\t1.007\n",
      "b:\t0.043\t\tb_hat:\t0.245\n",
      "loss:\t0.000\t\t^loss^:\t4.758\n"
     ]
    },
    {
     "data": {
      "image/png": "[encoded data removed]",
      "text/plain": [
       "<matplotlib.figure.Figure at 0x117de5fd0>"
      ]
     },
     "metadata": {},
     "output_type": "display_data"
    }
   ],
   "source": [
    "def format_str(true_name, true_val, pred_name, pred_val):\n",
    "    return '{0}:\\t{1:4.3f}\\t\\t{2}:\\t{3:4.3f}'.format(true_name, true_val, pred_name, pred_val)\n",
    "    \n",
    "with tf.Session(_____=______) as sess:\n",
    "    x_input1 = tf.___________(dtype=tf.float32,shape=(1,),name=_____)\n",
    "    x_input2 = tf.___________(dtype=tf.float32,shape=(1,),name=_____)\n",
    "    y_input = tf.___________(dtype=tf.float32,shape=(1,),name=_____)\n",
    "    \n",
    "    m1 = tf.________(tf.truncated_normal([1],0.4), name=___)\n",
    "    m2 = tf.________(tf.truncated_normal([1],-0.1), name=___)\n",
    "    m3 = tf.________(tf.truncated_normal([1],0.3), name=____)\n",
    "    b_hat = tf.________(tf.truncated_normal([1]), name=_____)\n",
    "    \n",
    "    y_hat = __ * x_input1 + __ * x_input2 + m3 * ______ * ______ + ______\n",
    "    \n",
    "    loss = tf.losses.mean_squared_error(_______, _______)\n",
    "    opt = tf.________._______________(learning_rate=1e-4).minimize(_______)\n",
    "    \n",
    "    init_op = tf.___________________________()\n",
    "    sess.___________\n",
    "    \n",
    "    num_epochs = 20\n",
    "    handles = []\n",
    "    leg_lab = []\n",
    "    \n",
    "    fig, ax = plt.subplots()\n",
    "    for i in range(num_epochs):\n",
    "        indices = np.random.permutation(len(____))\n",
    "        losses = []\n",
    "        for k in indices:\n",
    "            results = sess.run([___,loss], \n",
    "                        feed_dict=\n",
    "                                 {________: [x1s[k]],\n",
    "                                  ________: [x2s[k]],\n",
    "                                  ________: [ys[k]]}\n",
    "                        )\n",
    "            losses.append(results[1])\n",
    "        line_handle, = ax.plot(list(range(len(x1s))), losses)\n",
    "        \n",
    "        handles.append(line_handle)\n",
    "        leg_lab.append(\"Epoch: {}\".format(i+1))\n",
    "        \n",
    "    ax.legend(handles, leg_lab)\n",
    "    ax.set_xlabel(\"Time\")\n",
    "    ax.set_ylabel(\"Loss\")\n",
    "    fig.suptitle(\"Losses vs Time\")\n",
    "    fig.show()\n",
    "    \n",
    "    error = []\n",
    "    for x1e, x2e, ye in zip(x1s, x2s, ys):\n",
    "        error.append(sess.run(loss, feed_dict={x_input1:[x1e], x_input2:[x2e], y_input:[ye]}))\n",
    "\n",
    "    print(format_str('m1',slope1,'m_hat1',sess.run(___)[0]))\n",
    "    print(format_str('m2',slope2,'m_hat2',sess.run(___)[0]))\n",
    "    print(format_str('m3',1.0,'m_hat3',sess.run(___)[0]))\n",
    "    print(format_str('b',true_bias,'b_hat',sess.run(___)[0]))\n",
    "    print(format_str('loss',np.sum(ys-np.matmul(A,solution)),'^loss^',np.sum(error)))"
   ]
  },
  {
   "cell_type": "code",
   "execution_count": null,
   "metadata": {},
   "outputs": [],
   "source": [
    "# solution\n",
    "# Note: a good solution can be unstable, and < 5.0\n",
    "# A great solution <<1.0, but I think this just doesn't happen (even in 10 epochs) bc\n",
    "# 1) I'm not recording loss every epoch.\n",
    "# 2) This is not implementing batch gradient descent.\n",
    "# 3) Also, the x1*x2 term is really finicky for some reason\n",
    "def format_str(true_name, true_val, pred_name, pred_val):\n",
    "    return '{0}:\\t{1:4.3f}\\t\\t{2}:\\t{3:4.3f}'.format(true_name, true_val, pred_name, pred_val)\n",
    "    \n",
    "with tf.Session(graph=tf.Graph()) as sess:\n",
    "    x_input1 = tf.placeholder(dtype=tf.float32,shape=(1,),name='x_in1')\n",
    "    x_input2 = tf.placeholder(dtype=tf.float32,shape=(1,),name='x_in2')\n",
    "    y_input = tf.placeholder(dtype=tf.float32,shape=(1,),name='y_in')\n",
    "    \n",
    "    m1 = tf.Variable(tf.truncated_normal([1],0.4), name='m1')\n",
    "    m2 = tf.Variable(tf.truncated_normal([1],-0.1), name='m2')\n",
    "    m3 = tf.Variable(tf.truncated_normal([1],0.3), name='m3')\n",
    "    b_hat = tf.Variable(tf.truncated_normal([1]), name='b_hat')\n",
    "    \n",
    "    y_hat = m1 * x_input1 + m2 * x_input2 + m3 * x_input1 * x_input2 + b_hat\n",
    "    \n",
    "    loss = tf.losses.mean_squared_error(y_input, y_hat)\n",
    "    opt = tf.train.GradientDescentOptimizer(learning_rate=1e-4).minimize(loss)\n",
    "    \n",
    "    init_op = tf.global_variables_initializer()\n",
    "    sess.run(init_op)\n",
    "    \n",
    "    num_epochs = 20\n",
    "    handles = []\n",
    "    leg_lab = []\n",
    "    \n",
    "    fig, ax = plt.subplots()\n",
    "    for i in range(num_epochs):\n",
    "        indices = np.random.permutation(len(x1s))\n",
    "        losses = []\n",
    "        for k in indices:\n",
    "            results = sess.run([opt,loss], \n",
    "                        feed_dict=\n",
    "                                 {x_input1: [x1s[k]],\n",
    "                                  x_input2: [x2s[k]],\n",
    "                                  y_input: [ys[k]]}\n",
    "                        )\n",
    "            losses.append(results[1])\n",
    "        line_handle, = ax.plot(list(range(len(x1s))), losses)\n",
    "        \n",
    "        handles.append(line_handle)\n",
    "        leg_lab.append(\"Epoch: {}\".format(i+1))\n",
    "        \n",
    "    ax.legend(handles, leg_lab)\n",
    "    ax.set_xlabel(\"Time\")\n",
    "    ax.set_ylabel(\"Loss\")\n",
    "    fig.suptitle(\"Losses vs Time\")\n",
    "    fig.show()\n",
    "    \n",
    "    error = []\n",
    "    for x1e, x2e, ye in zip(x1s, x2s, ys):\n",
    "        error.append(sess.run(loss, feed_dict={x_input1:[x1e], x_input2:[x2e], y_input:[ye]}))\n",
    "\n",
    "    print(format_str('m1',slope1,'m_hat1',sess.run(m1)[0]))\n",
    "    print(format_str('m2',slope2,'m_hat2',sess.run(m2)[0]))\n",
    "    print(format_str('m3',1.0,'m_hat3',sess.run(m3)[0]))\n",
    "    print(format_str('b',true_bias,'b_hat',sess.run(b_hat)[0]))\n",
    "    print(format_str('loss',np.sum(ys-np.matmul(A,solution)),'^loss^',np.sum(error)))"
   ]
  }
 ],
 "metadata": {
  "kernelspec": {
   "display_name": "pyKaggle",
   "language": "python",
   "name": "pykaggle"
  },
  "language_info": {
   "codemirror_mode": {
    "name": "ipython",
    "version": 3
   },
   "file_extension": ".py",
   "mimetype": "text/x-python",
   "name": "python",
   "nbconvert_exporter": "python",
   "pygments_lexer": "ipython3",
   "version": "3.6.2"
  }
 },
 "nbformat": 4,
 "nbformat_minor": 2
}
