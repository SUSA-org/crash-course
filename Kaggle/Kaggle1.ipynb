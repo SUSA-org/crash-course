{
 "cells": [
  {
   "cell_type": "markdown",
   "metadata": {},
   "source": [
    "# Kaggle\n",
    "\n",
    "## What is Kaggle?\n",
    "\n",
    "## Machine Learning\n",
    "\n",
    "## Accessing the `House Prices` Dataset\n",
    "\n",
    "`crash-course/Kaggle/DATA/house-prices/train.csv`\n",
    "\n"
   ]
  },
  {
   "cell_type": "markdown",
   "metadata": {},
   "source": [
    "# Exploratory Data Analysis\n",
    "\n",
    "## The Data Science Workflow\n",
    "\n",
    "## EDA\n",
    "\n",
    "```{r}\n",
    "training_set <- read_csv(\"DATA/house-prices/train.csv\") \n",
    "```\n",
    "\n",
    "\n",
    "```{r}\n",
    "training_set %>% summarise_all(funs(sum(is.na(.))/nrow(training_set))) %>% gather(Column, Count) %>% arrange(desc(Count)) %>% head(10)\n",
    "eda_set <- training_set %>% drop_na(-c(PoolQC, MiscFeature, Alley, Fence, FireplaceQu, LotFrontage))\n",
    "nrow(eda_set)/nrow(training_set)\n",
    "```\n",
    "\n",
    "```{r}\n",
    "pairs_plot <- function(df){\n",
    "  df_x <- rename_all(df, function(str){paste(str, \"x\", sep = \".\")})\n",
    "  df_y <- rename_all(df, function(str){paste(str, \"y\", sep = \".\")})\n",
    "  cbind(df_x,df_y) %>%\n",
    "    gather(xVar, xVal, ends_with(\"x\")) %>% gather(yVar, yVal, ends_with(\"y\")) %>% \n",
    "    ggplot(aes(xVal, yVal, col = xVar)) + geom_point() + facet_grid(yVar ~ xVar, scales = \"free\") + \n",
    "    labs(x = \"X Variable\", y = \"Y Variable\")\n",
    "}\n",
    "pairs_plot(eda_set)\n",
    "```\n",
    "\n",
    "```{r}\n",
    "pca_plot <- function(df, scale = F) {\n",
    "  autoplot(prcomp(df, scale = scale), data = df, \n",
    "         loadings = TRUE, loadings.colour = 'blue',\n",
    "         loadings.label = TRUE, loadings.label.size = 3)\n",
    "}\n",
    "pca_set <- eda_set %>% select(- SalePrice) %>% select_if(is.numeric) %>% drop_na\n",
    "pca_plot(pca_set)\n",
    "eda_pca <- prcomp(pca_set)\n",
    "summary(eda_pca)\n",
    "eda_pca %>% extract(c(\"sdev\", \"center\")) %>% as.data.frame %>% mutate(Feature = rownames(.)) %>% arrange(desc(center)) %>% \n",
    "  slice(1:20) %>% \n",
    "  pull(Feature) -> important_features\n",
    "print(important_features)\n",
    "  \n",
    "```\n",
    "\n"
   ]
  },
  {
   "cell_type": "markdown",
   "metadata": {},
   "source": [
    "# Feature Selection\n",
    "\n",
    "# A First Approach to Machine Learning: Linear Regression\n",
    "\n",
    "```{r}\n",
    "simple_model <- lm(data = training_set, formula = SalePrice ~ LotArea)\n",
    "simple_model %>% augment %>% select(`SalePrice (Actual)` = SalePrice, `SalePrice (Predicted)` = .fitted, LotArea) %>%\n",
    "  gather(Value, SalePrice, - LotArea) %>%\n",
    "  ggplot(aes(LotArea, SalePrice, col = Value, linetype = Value)) + geom_point()\n",
    "\n",
    "initial_model <- lm(data = training_set, formula = SalePrice ~ LotArea + GrLivArea)\n",
    "initial_model %>% augment %>% select(`SalePrice (Actual)` = SalePrice, `SalePrice (Predicted)` = .fitted, LotArea, GrLivArea) %>%\n",
    "  gather(Value, SalePrice, - c(LotArea, GrLivArea)) %>%\n",
    "  ggplot(aes(LotArea, SalePrice, col = Value, linetype = Value)) + geom_point()\n",
    "initial_model %>% augment %>% \n",
    "  ggplot(aes(LotArea, .resid)) + geom_point() + \n",
    "  geom_hline(yintercept = 0, col = \"black\", linetype = \"dashed\") +\n",
    "  labs(x = \"Lot Area (Square Ft.)\", y = \"Residual\", title = \"Residual Plot of Iniital Linear Model\") \n",
    "\n",
    "model <- lm(data = training_set, \n",
    "            formula = as.formula(paste(\"SalePrice ~ \", paste(important_features %>% paste0(\"`\", ., \"`\"), collapse= \" + \"))))\n",
    "model %>% augment %>% \n",
    "  ggplot(aes(SalePrice, .resid)) + geom_point() + \n",
    "  geom_hline(yintercept = 0, col = \"black\", linetype = \"dashed\") +\n",
    "  labs(x = \"Sales Price\", y = \"Residual\", title = \"Residual Plot of 'Important Features' Linear Model\") \n",
    "```\n",
    "\n",
    "\n"
   ]
  },
  {
   "cell_type": "markdown",
   "metadata": {},
   "source": [
    "# Extensions to Linear Regression\n",
    "\n",
    "# Conclusion\n",
    "\n",
    "This ends our textbook-style primer into deep learning with Keras. While this was just an introduction to neural nets, we hope that you can now see some of the workflow patterns associated with machine learning. Feel free to play around with the code above to get a better feel for the hyperparameters of the neural net model. As always, please email [`contact@arun.run`](mailto:contact@arun.run) or [`prc@berkeley.edu`](mailto:prc@berkeley.edu) with any questions or concerns whatsoever. Happy machine learning!\n",
    "\n",
    "## Sneakpeek at SUSA Kaggle Competition II\n",
    "\n",
    "After Spring Break, we will be guiding you through a four-week collaborative Kaggle competition with your peers in Career Exploration! We want to give you the experience of working with real data, using real machine learning algorithms, in an educational setting. You will have to choose either Python or R, and dive into reading kernels on the Kaggle website, use visualization and feature engineering to improve your score, and maybe even pick up a few advanced deep learning models along the way. If this sounds a bit intimidating right now, do not fret! Your SUSA Mentors will be there to mentor you through the whole thing. So rest up during Spring Break, and come back ready to tackle your biggest data challenge yet!\n",
    "\n",
    "# Additional Reading\n",
    "* For more information on the Kaggle API, a command-line program used to download and manage Kaggle datasets, visit the [Kaggle API Github page](https://github.com/Kaggle/kaggle-api)  \n",
    "* For an interactive guide to learning R and Python, visit [DataCamp](https://www.datacamp.com/) a paid tutorial website for learning data computing.\n"
   ]
  },
  {
   "cell_type": "code",
   "execution_count": null,
   "metadata": {
    "collapsed": true
   },
   "outputs": [],
   "source": []
  }
 ],
 "metadata": {
  "kernelspec": {
   "display_name": "Python 3",
   "language": "python",
   "name": "python3"
  },
  "language_info": {
   "codemirror_mode": {
    "name": "ipython",
    "version": 3
   },
   "file_extension": ".py",
   "mimetype": "text/x-python",
   "name": "python",
   "nbconvert_exporter": "python",
   "pygments_lexer": "ipython3",
   "version": "3.6.4"
  }
 },
 "nbformat": 4,
 "nbformat_minor": 2
}
