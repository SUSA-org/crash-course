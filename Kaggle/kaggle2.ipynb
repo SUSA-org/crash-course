{
 "cells": [
  {
   "cell_type": "markdown",
   "metadata": {},
   "source": [
    "# SUSA CX Kaggle Capstone Project\n",
    "## Part 2: Feature Engineering, Shrinkage, and PCA in Linear Models\n",
    "\n",
    "### Table Of Contents\n",
    "* [Introduction](#section1)\n",
    "* [Extensions to Linear Modeling](#section2)\n",
    "    1. [Feature Engineering & Polynomial Regression](#i)\n",
    "    2. [Shrinkage & Lasso Regression](#ii)\n",
    "    3. [Principal Component Analysis](#iii)\n",
    "* [Conclusion](#conclusion)\n",
    "* [Additional Reading](#reading)\n",
    "\n",
    "\n",
    "### Hosted by and maintained by the [Statistics Undergraduate Students Association (SUSA)](https://susa.berkeley.edu). Originally authored by [Arun Ramamurthy](mailto:contact@arun.run), [Patrick Chao](mailto:prc@berkeley.edu), & [Noah Gundotra](mailto:noah.gundotra@berkeley.edu).\n"
   ]
  },
  {
   "cell_type": "markdown",
   "metadata": {},
   "source": [
    "<a id='section1'></a>\n",
    "# SUSA CX Kaggle Capstone Project\n",
    "\n",
    "Welcome to the second week of the SUSA CX Kaggle Capstone! Now that you have an understanding of your data, a cleaned dataset, and a working model, now it's time to improve your model performance with some new tricks and techniques.  This week, you and your teammates will choose one of three techniques to improve your model further, read an article on the topic, and read through documentation to write the model for yourselves! The overarching goal of this week is to give you practice reading about and coding basic, but powerful, models - just like you'd do in real life when learning a new model design. \n",
    "\n",
    "## How will you outperform your first model?\n",
    "\n",
    "One way to improve your model performance is to use a better model. These days, deep learning models are popular because they are performant and do not suffer from model bias. However, these models also lack interpretability, clear diagnostic procedures, and replicability. In Week 4 we will help you design and train a neural net to predict `SalesPrice`, but in the meantime, we are going to be sticking with (generalized) linear models.\n",
    "\n",
    "This week, you will choose one of the following three topics to learn with your team. The topics are as follows:   \n",
    "1. **Feature Engineering**: In this module, you will learn guidelines for pre-processing your features (e.g. squaring them, or taking the log, etc.). This segues into Polynomial Regression, a form of linear regression where you apply several different powers to your features before entering them into a model.\n",
    "\n",
    "2. **Shrinkage**: In this module, you will learn a technique that specifically targets overfitting and feature selection. Instead of selecting relevant features manually, shrinkage will automatically get rid of unimportant features and avoid sinuous linear models. This segues into Lasso Regression, a form of regression that penalizes the use of too many features.\n",
    "\n",
    "2. **Principal Component Analysis**: In this module, you will learn a technique that performs both feature engineering and shrinkage at the same time by re-constructing a new basis (yes, that same word you learnt about in Math 54!) for your features. Once cast into this new basis, your dataset retains all of its information, but your new features are orthogonal and sorted in order of importance. You can then just choose the first few of these features, and your linear model should increase in predictive accuracy.\n",
    "\n",
    "# Logistics\n",
    "\n",
    "Most of the logistics are the same as last week, but we are repeating them here for your convenience. Please let us know if you or your teammates are feeling nervous about the pace of this project - remember that we are not grading you on your project, and we really try to make the notebooks relatively easy and fast to code through. If for any reason you are feeling overwhelmed or frustrated, please DM us or talk to us in person. We want all of you to have a productive, healthy, and fun time learning data science!\n",
    "\n",
    "### SUSA Datathon\n",
    "\n",
    "The SUSA Datathon is this weekend, and it's the perfect time to finish the contents of this workbook! The datathon is on **Sunday from 5-9PM, in GPB 100**, and **dinner will be provided**. This event is **mandatory** for all CX members, but many other committees and mentors in SUSA will be there too. At the Datathon, members from many SUSA committees, notably Data Consulting, Research & Publication, and Career Exploration, will all meet up and work on their respective projects together. There will be many other SUSA mentors there to help you and it should be a great environment for you and your group to work in. This is also another great opportunity to meet other experienced SUSA members and get a taste for other committees in the club. See you all there!\n",
    "\n",
    "### Mandatory Office Hours\n",
    "\n",
    "Because this is such a large project, you and your team will surely have to work on it outside of meetings. In order to get you guys to seek help from this project, we are making it **mandatory** for you and your group to attend **two (2)** SUSA Office Hours over the next 4 weeks. This will allow questions to be answered outside of the regular meetings and will help promote collaboration with more experienced SUSA members.\n",
    "\n",
    "The schedule of SUSA office hours are below:\n",
    "https://susa.berkeley.edu/calendar#officehours-table\n",
    "\n",
    "We understand that most of you will end up going to Arun or Patrick's office hours, but we highly encourage you to go to other people's office hours as well. There are many qualified SUSA mentors who can help and this could be an opportunity for you to meet them.\n",
    "\n",
    "### Git\n",
    "\n",
    "Given that this is a collaborative project, you'll need to work with your team members on the same codebase simutaneously! This is fortunately simple with Git, which you learned in your very first workshop. Visit `py0` if you need a refresher, but we will be going over the steps for collaborative work here too.\n",
    "\n",
    "1. First, decide on which one of you will be hosting the forked Github repository for `crash-course`. Ideally, this would be someone with some GitHub experience and a GitHub account. If no one on your team has a GitHub account, one of you should sign up for one. For our examples, we will call this person's account name `rprincess`.\n",
    "\n",
    "2. Next, have the above person navigate to the [SUSA crash-course repository](https://github.com/SUSA-org/crash-course) and click the `Fork` button. GitHub will make a copy of the crash-course repository in your team member's account. \n",
    "\n",
    "3. Each one of you can download the `rprincess` repository to your local computer with the following command: `git clone https://github.com/rprincess/crash-course.git`.\n",
    "\n",
    "4. The `rprincess` must add their team members' account information to the fork (to allow them to push to your repo). You can find this option by going to the Settings page of your forked repository of crash-course, then clicking \"Collaborators & Teams\" (e.g. `https://github.com/rprincess/git-demo/settings/collaboration`).\n",
    "\n",
    "4. Feel free to work within the repository and use `git pull origin` and `git add -A && git commit -am \"My example message here\" && git push` to pull/push your local repository to the `rprincess` online repository.\n",
    "\n",
    "If you have any questions, just Slack Lucas, Noah, Patrick, or Arun and we can help you with your Git workflow."
   ]
  },
  {
   "cell_type": "markdown",
   "metadata": {},
   "source": [
    "<a id='section2'></a>\n",
    "# Extensions to Linear Modeling\n",
    "\n",
    "Itually take a look at it. The first step is to load in the data! We will store this in a `pandas` dataframe."
   ]
  },
  {
   "cell_type": "code",
   "execution_count": 12,
   "metadata": {},
   "outputs": [],
   "source": [
    "# Save to csv\n",
    "clean.to_csv('DATA/house-prices/train_cleaned.csv')"
   ]
  },
  {
   "cell_type": "markdown",
   "metadata": {},
   "source": [
    "<a id='v'></a>\n",
    "# V. Model Evaluation\n",
    "\n",
    "Now it's time to actually see how your model performed!\n",
    "\n",
    "Just mess around with the `.predict` method of your model object. See what it does."
   ]
  },
  {
   "cell_type": "markdown",
   "metadata": {},
   "source": [
    "<a id='conclusion'></a>\n",
    "# Conclusion\n",
    "\n",
    "This ends the second of our four collaborative sessions on the Kaggle Housing Prices competition. As always, please email [Arun Ramamurthy](mailto:contact@arun.run), [Patrick Chao](mailto:prc@berkeley.edu), or [Noah Gundotra](mailto:noah.gundotra@berkeley.edu) or with any questions or concerns whatsoever. Happy machine learning!\n",
    "\n",
    "## Sneakpeek at SUSA Kaggle Competition III\n",
    "\n",
    "Next week, ... ay tuned!\n",
    "\n",
    "<a id='reading'></a>\n",
    "# Additional Reading\n",
    "* For more information on the Kaggle API, a command-line program used to download and manage Kaggle datasets, visit the [Kaggle API Github page](https://github.com/Kaggle/kaggle-api)  \n",
    "* For an interactive guide to learning R and Python, visit [DataCamp](https://www.datacamp.com/) a paid tutorial website for learning data computing.\n"
   ]
  }
 ],
 "metadata": {
  "kernelspec": {
   "display_name": "Python 3",
   "language": "python",
   "name": "python3"
  },
  "language_info": {
   "codemirror_mode": {
    "name": "ipython",
    "version": 3
   },
   "file_extension": ".py",
   "mimetype": "text/x-python",
   "name": "python",
   "nbconvert_exporter": "python",
   "pygments_lexer": "ipython3",
   "version": "3.6.4"
  }
 },
 "nbformat": 4,
 "nbformat_minor": 2
}
