{
 "cells": [
  {
   "cell_type": "markdown",
   "metadata": {},
   "source": [
    "# SUSA CX Kaggle Capstone\n",
    "## Part 1: Introduction, Exploratory Data Analysis, and Feature Selection\n",
    "\n",
    "### Table Of Contents\n",
    "* [Introduction](#section1)\n",
    "* [Data Science Workflow](#section2)\n",
    "    1. [Understanding Our Dataset](#i)\n",
    "    2. [Data Cleaning](#ii)\n",
    "    3. [EDA](#iii)\n",
    "    4. [Modeling](#iiii)\n",
    "    5. [Model Evaluation](#v)\n",
    "* [Conclusion](#conclusion)\n",
    "* [Additional Reading](#reading)\n",
    "\n",
    "\n",
    "### Hosted by and maintained by the [Statistics Undergraduate Students Association (SUSA)](https://susa.berkeley.edu). Originally authored by [Arun Ramamurthy](mailto:contact@arun.run), [Patrick Chao](mailto:prc@berkeley.edu), & [Noah Gundotra](mailto:noah.gundotra@berkeley.edu).\n"
   ]
  },
  {
   "cell_type": "markdown",
   "metadata": {},
   "source": [
    "<a id='section1'></a>\n",
    "# SUSA CX Kaggle Capstone Project\n",
    "\n",
    "Welcome to the last four weeks of your semester in SUSA's Career Exploration committee! Now that you've participated in nearly a dozen workshops on Python, R, data science, and machine learning, we're going to guide you through a four-week collaborative Kaggle competition with your peers in Career Exploration. We want to give you the experience of working with real data, using real machine learning algorithms, in an educational setting. You will have to make use of your data computing skills in Python, dive into reading kernels on the Kaggle website, use visualization and feature engineering to improve your score, and maybe even pick up a few advanced deep learning models along the way. \n",
    "\n",
    "If this sounds a bit intimidating right now, do not fret! Your SUSA Mentors will be there to mentor you through the whole thing. Don't worry if our code, our approach, or any part of this process seems unnatural. It is. It takes time to learn, and it takes time to teach. We're learning as we make these tutorials, too! So without further ado, let's get cracking!\n",
    "\n",
    "## What is [Kaggle](https://www.kaggle.com/)?\n",
    "\n",
    "Kaggle is platform that hosts datasets & data science competitions. Kaggle started off as a small community of data science practitioners looking to hone their hobbying skills and meet like-minded folks, not unlike SUSA! :)\n",
    "\n",
    "\n",
    "Today they host many different types of competitions for [money from 1k to 1M](https://www.kaggle.com/c/data-science-bowl-2018), [jobs](https://www.kaggle.com/jobs), [internships](https://www.kaggle.com/c/two-sigma-connect-rental-listing-inquiries) e.g. 2Sigma, and [prestige](https://www.kaggle.com/c/imagenet-object-detection-challenge). The best competitors get special badges that give their comments, contributions, and teams special status in the community. You can build your reputation by posting helpful notebooks (called **kernels** by Kaggle), like this one, on a Kaggle dataset.\n",
    "\n",
    "There's lots more to Kaggle. If you're interested some examples in getting started with Kaggle competitions, or how it works, see our [Kaggle Workshop slides!](https://github.com/ngundotra/SUSA_Kaggle_Workshop)\n",
    "\n",
    "### Kaggle Competition: Housing Prices\n",
    "\n",
    "In this project, we will be working with the [**Housing Prices**](https://www.kaggle.com/c/house-prices-advanced-regression-techniques/) competition on the Kaggle website. The competition deals with accurately predicting the sales prices of houses in Ames, Iowa. More information on the dataset and competition will follow shortly.\n",
    "\n",
    "### Accessing the `House Prices` Dataset\n",
    "\n",
    "While you can access these datasets online at the [Kaggle webpage for this competition](https://www.kaggle.com/c/house-prices-advanced-regression-techniques/data), we have already downloaded the data for you and placed it in the `crash-course/Kaggle/DATA/house-prices/` directory. \n",
    "\n",
    "## Overview of the CX Capstone Project\n",
    "\n",
    "So where does Kaggle fit in into your CX education? So far, you've learned all sorts of skills, from the bias-variance tradeoff, to EDA, to deep learning. However, you've still only learned them in concept (with the exception of the mini-projects and workbook problems). To get a real handle on how these concepts work, you need to get some proper experience with a real-life dataset and data problem. Fortunately, Kaggle provides these datasets and problems, and so we're going to use a Kaggle competition to help you practice the skills you've learned from the CX workshop series, and hopefully bond a little bit with your fellow CX members as well! \n",
    "\n",
    "## Logistics\n",
    "\n",
    "This project is going to be tough and long, but we will be there with you through the whole thing. Additionally, you won't be working alone - we have used your input to assign you into teams of 3 - 4 members. These will be your team members for the rest of the semester, so get to know each other a little!\n",
    "\n",
    "The project will last the remaining 4 weeks of Career Ex, and one hour per each weekly CX meeting will be devoted to working on it with your team (The other hour will be devoted to guest speakers). However, that only leaves 4 hours of in-class time to work on the project. In order to complete it successfully, it is highly likely that you and your team will have to do some work outside of the weekly CX meetings. To help you stay accountable for yourself, we will be providing you with space and times to meet with SUSA Mentors to help.\n",
    "\n",
    "\n",
    "### Teams \n",
    "\n",
    "You can find the breakdown of the teams with this link:\n",
    "https://docs.google.com/document/d/1twOPXsil1ZyQ1_Rt770ubUbmdQto36OYNNhhBODukPI/edit?usp=sharing\n",
    "\n",
    "I would start by getting the Slack handle or phone number (or other contact info) of all the other members in your group so that you can easily communicate outside of the weekly meetings. It's up to you guys to determine how you are going to meet - however, we **highly encourage** all work on the project to be done **in-person together**.\n",
    "\n",
    "### Mandatory Office Hours\n",
    "\n",
    "Because this is such a large project, you and your team will surely have to work on it outside of meetings. In order to get you guys to seek help from this project, we are making it **mandatory** for you and your group to attend **two (2)** SUSA Office Hours over the next 4 weeks. This will allow questions to be answered outside of the regular meetings and will help promote collaboration with more experienced SUSA members.\n",
    "\n",
    "The schedule of SUSA office hours are below:\n",
    "https://susa.berkeley.edu/calendar#officehours-table\n",
    "\n",
    "We understand that most of you will end up going to Arun or Patrick's office hours, but we highly encourage you to go to other people's office hours as well. There are many qualified SUSA mentors who can help and this could be an opportunity for you to meet them.\n",
    "\n",
    "### SUSA Datathon\n",
    "\n",
    "One other time that we are hoping you will work on your Kaggle projects is during the SUSA Datathon. The time and place of the event is still tentative, but it will likely 4-8PM on Sunday 4/15. At the Datathon, members from many SUSA committees, notably Data Consulting, Research & Publication, and Career Exploration, will all meet up and work on their respective projects together. There will be many other SUSA members there to help you and it should be a great environment for you and your group to work. This is also another great opportunity to meet other experienced SUSA members and get a taste for other committees in the club. More details about this event will be released later.\n",
    "\n",
    "### Git\n",
    "\n",
    "Given that this is a collaborative project, you'll need to work with your team members on the same codebase simutaneously! This is fortunately simple with Git, which you learned in your very first workshop. Visit `py0` if you need a refresher, but we will be going over the steps for collaborative work here too.\n",
    "\n",
    "1. First, decide on which one of you will be hosting the forked Github repository for `crash-course`. Ideally, this would be someone with some GitHub experience and a GitHub account. If no one on your team has a GitHub account, one of you should sign up for one. For our examples, we will call this person's account name `rprincess`.\n",
    "\n",
    "2. Next, have the above person navigate to the [SUSA crash-course repository](https://github.com/SUSA-org/crash-course) and click the `Fork` button. GitHub will make a copy of the crash-course repository in your team member's account. \n",
    "\n",
    "3. Each one of you can download the `rprincess` repository to your local computer with the following command: `git clone https://github.com/rprincess/crash-course.git`. \n",
    "\n",
    "4. Feel free to work within the repository and use `git pull origin` and `git add -A && git commit -am \"My example message here\" && git push` to pull/push your local repository to the `rprincess` online repository.\n",
    "\n",
    "If you have any questions, just Slack Lucas, Noah, Patrick, or Arun and we can help you with your Git workflow."
   ]
  },
  {
   "cell_type": "markdown",
   "metadata": {},
   "source": [
    "<a id='section2'></a>\n",
    "# The Data Science Workflow\n",
    "\n",
    "In general, there are a few key steps to begin working with a dataset. \n",
    "\n",
    "First, we need to **understand what the dataset actually is about**, and what we are trying to do with it. Key to this stage is understanding what each row of the dataset represents, as well as what each column indicates. You can read more about this dataset by looking at the dataset itself, or reading the data dictionary in `crash-course/Kaggle/DATA/house-prices/data_description.txt`.\n",
    "\n",
    "Second, before we can even do exploratory data analysis, we need to **clean our dataset**. It is very helpful to identify the size of the dataset, so we know how many samples we have. We need to determine a consistent method of dealing with missing values, such as setting them to a value, removing the feature entirely, interpolating values, etc. Other crucial steps are separating into training and validation, as well as creating elementary data plots.\n",
    "\n",
    "Third, we have **exploratory data analysis (EDA)**. The point of this phase is to inspect & visualize key relationships, trends, outliers, and issues with our data. By conducting EDA, we get a better sense of the underlying structure of our data, and which features are most important. Especially since we have 81 features, we would like to select the features that are most important to our analysis before we begin modeling `SalePrice`. Once we have an idea about which features to use and how they relate to one another, our modeling stage will be more informed and robust. \n",
    "\n",
    "Fourth, we have the **modeling phase**, consisting of **model selection** and **model training**. Here, we select a predictive model to train on our features, and then actually train the model! In this first week, we will be using linear regression as a first-pass. In later weeks of the SUSA CX Kaggle Capstone project, we will be using more advanced models like random forest and neural networks. Depending on the model we are using, it is important to verify the model's assumptions before fully pledging to that model. Additionally, we may use **validation** in this stage to select certain hyperparameters for our model selection.\n",
    "\n",
    "Finally, we have the **model evaluation phase**. Here, we compute a metric for our model's performance, usually by  summing the squared errors of the model's predictions on the test set. This stage allows us to effectively compare various data cleaning and modeling selection decisions, by giving us a single comparable value for performance across our potential models.\n",
    "\n",
    "<a id='i'></a>\n",
    "## I. Understanding our Dataset \n",
    "Our dataset is about houses in Iowa! According to the Kaggle webpage, the competition is as follows:\n",
    "\n",
    "> Ask a home buyer to describe their dream house, and they probably won’t begin with the height of the basement ceiling or the proximity to an east-west railroad. But this playground competition’s dataset proves that much more influences price negotiations than the number of bedrooms or a white-picket fence.\n",
    "With 79 explanatory variables describing (almost) every aspect of residential homes in Ames, Iowa, this competition challenges you to predict the final price of each home.\n",
    "\n",
    "More explicitly, our dataset has 81 columns, or features: \n",
    "1. `SalePrice`, our response variable $Y$ that we are trying to predict accurately and precisely \n",
    "2. `Id`, a simple identification variable\n",
    "3. 79 explanatory variables $X_k$ that we can use to predict `SalePrice`. Some of the variables are categorical, and others are continuous quantitative. \n",
    "\n",
    "The goal of the next four weeks to to create a model that trains on (some of) the 79 explanators from the training set to predict `SalePrice` well in the test set. \n",
    "\n",
    "How will we know which explanators to use? We can start with some intuition and research into what each column represents by reading the data dictionary in `crash-course/Kaggle/DATA/house-prices/data_description.txt`. \n",
    "\n",
    "> Please take a moment to read over this dictionary, as you will need to have a keen sense of these features for the weeks ahead. Can you come up with five features you suspect will be important in determining the `SalePrice`?\n",
    "\n",
    "Now that we've talked a bit about this dataset, let's actually take a look at it. The first step is to load in the data! We will store this in a `pandas` dataframe."
   ]
  },
  {
   "cell_type": "code",
   "execution_count": null,
   "metadata": {},
   "outputs": [],
   "source": [
    "import pandas as pd\n",
    "train = pd.read_csv('DATA/house-prices/train.csv')\n",
    "test = pd.read_csv('DATA/house-prices/test.csv')\n",
    "\n",
    "#Let's see what the training dataframe looks like!\n",
    "train.head(10)"
   ]
  },
  {
   "cell_type": "markdown",
   "metadata": {},
   "source": [
    "## Questions for Understanding:\n",
    "> 1. How many features (columns) do we have? How many entries (rows)?\n",
    "> 2. What does a single row represent in our dataset?\n",
    "> 3. List 3 issues/questions that you see from the dataset. Some ideas to get started: What does `LotShape` represent? Is it a good thing that we have so many features? How does a large number of features affect our modeling approach?\n",
    "> 4. What are some important things we should do for data cleaning and exploration? Some ideas to get started: are all the values in `LotFrontage` numeric? What about `Alley`? How should we fix missing/`NA` values that appear sporadically in some columns? What about columns that are almost entirely full of `NA` values? Some columns are qualitative strings, whereas others are qualitative numerics - how might this affect our cleaning?"
   ]
  },
  {
   "cell_type": "markdown",
   "metadata": {},
   "source": [
    "<a id='ii'></a>\n",
    "# II. Data Cleaning\n",
    "First, let's see how big our dataset looks like."
   ]
  },
  {
   "cell_type": "code",
   "execution_count": null,
   "metadata": {},
   "outputs": [],
   "source": [
    "print(\"Training size\",train.shape)\n",
    "print(\"Test size\",test.shape)"
   ]
  },
  {
   "cell_type": "markdown",
   "metadata": {},
   "source": [
    "This tells us that we have $1460$ datapoints in the training set, and we would like to predict on $1459$ samples. There are $80$ total features, and one response variable we would like to predict. However, not all these 'features' are actually useful, such as `Id`. Thus we need to understand what the actual variables mean. A huge part in data science is actually understanding the variables. Of course it is possible to throw the data into some machine learning model and have it spit out predictions, but without actually understanding what data you are dealing with and how to feed the data into the model, your model is worthless.\n",
    "\n",
    "Spend a good deal of time reading over the data dictionary. It is located in  \n",
    "`crash-course/Kaggle/DATA/house-prices/data_description.txt`\n",
    "\n",
    "## Questions for Understanding:\n",
    "> 1. There are many categorical variables. What are some possibilities to deal with these variables? (Hint: [one hot encoding](https://www.kaggle.com/dansbecker/using-categorical-data-with-one-hot-encoding))\n",
    "> 2. Are there any categorical variables that we can convert to numerical/quantitative variables as well? How might we do that?\n",
    "> 3. Are there any variables that are just irrelevant and we can ignore?\n",
    "\n",
    "One helpful method is looking at the unique values of a feature."
   ]
  },
  {
   "cell_type": "code",
   "execution_count": null,
   "metadata": {},
   "outputs": [],
   "source": [
    "#We can view the unique values of a given feature\n",
    "train['Foundation'].unique()"
   ]
  },
  {
   "cell_type": "markdown",
   "metadata": {},
   "source": [
    "## Dealing with NA values\n",
    "In almost all datasets, we will have NA values. These can be a pain to deal with, as there are many viable choices of what to do. First, it is good to see what columns have NA values."
   ]
  },
  {
   "cell_type": "code",
   "execution_count": null,
   "metadata": {
    "scrolled": false
   },
   "outputs": [],
   "source": [
    "#Sum the number of NA's in each column\n",
    "train.isnull().sum()"
   ]
  },
  {
   "cell_type": "markdown",
   "metadata": {},
   "source": [
    "It seems that many of the features have a great deal of NAs. However, this is not necessarily the case. The astute reader will notice that some variables like `Alley`, `PoolQC`, and `Fence`, have NA has an actual value. For example for `Pool Quality`, we have these possibilities.\n",
    "\n",
    "PoolQC: Pool quality\n",
    "\t\t\n",
    "       Ex\tExcellent\n",
    "       Gd\tGood\n",
    "       TA\tAverage/Typical\n",
    "       Fa\tFair\n",
    "       NA\tNo Pool\n",
    "So having NA values is not the usual not available, it can actually be a legitimate value! We need to parse through the data dictionary to see when NA's are actually significant, and when they actually mean NA.\n",
    "\n",
    "## Questions for Understanding:\n",
    "> 1. Go through the data dictionary and find all features that have NA as legitimate values.\n",
    "> 2. How can we refactor the variables in question 1 appropriately?\n"
   ]
  },
  {
   "cell_type": "markdown",
   "metadata": {},
   "source": [
    "The features that we found with NA's are:\n",
    "`Alley`, `BsmtQual`, `BsmtCond`, `BsmtExposure`, `BsmtFinType1`, `BsmtFinType2`, `FireplaceQu`, `GarageType`, `GarageFinish`, `GarageQual`, `GarageCond`, `PoolQC`, `Fence`, `Misc Feature`.\n",
    "\n",
    "Alley: NA for no alley access  \n",
    "`BsmtQual`, `BsmtCond`, `BsmtExposure`, `BsmtFinType1`, `BsmtFinType2`: NA for no basement  \n",
    "`FireplaceQu`: NA for no fireplace  \n",
    "`GarageType`, `GarageFinish`, `GarageQual`, `GarageCond`: NA for no garage  \n",
    "`PoolQC`: NA for no pool  \n",
    "`Fence`: NA for no fence  \n",
    "`Misc Feature`: NA for no other miscellanous features (i.e. elevator, 2nd garage, shed, tennis Court, other) "
   ]
  },
  {
   "cell_type": "markdown",
   "metadata": {},
   "source": [
    "## Data Cleaning Functions\n",
    "We provide some functions to help with data cleaning and preprocessing. One is used to create one hot encodings of various features, and the latter is for converting a categorical feature into values.\n",
    "\n",
    "### One Hot Encoding for Unordered Categorical Variables\n",
    "Consider we have a feature `committee` for a data frame of SUSA members. Let's say for sake of simplicity there are four committees, `CX`, `DC`, `RP`, and `WD`. There is no inherent ordering to the features, but each member is only in one committee. Thus we can replace this categorical variable with a single boolean for `committee`. If a member is a part of `CX`, then they will have a $1$ for `DC` and $0$ for all other variables. We have written this function for you in `oneHotFeature`.\n",
    "\n",
    "### Ordered Categorical Variables\n",
    "Consider we have a feature `attendance` for a data frame of SUSA members. Let's say there are $3$ possible values, `Good`, `Ok`, `Poor`. These inherently have an ordering, `Good` is better than `Okay` which is better than `Poor`. We can assign a numerical value to these, such as $0$ for `Poor`, $1$ for `Ok`, and $2$ for `Good`. We have written this function for you in `categoricalToQuantitative`.\n",
    "\n",
    "\n",
    "Please read over the following functions and read the comments carefully! They describe in detail what the functions do, and are **very** crucial to the data cleaning process."
   ]
  },
  {
   "cell_type": "code",
   "execution_count": null,
   "metadata": {},
   "outputs": [],
   "source": [
    "# Data Cleaning Functions\n",
    "\n",
    "def oneHotFeature(df, features, withNA=True):\n",
    "    \"\"\"\n",
    "    This function is for unordered categorical features \n",
    "\n",
    "    This function takes in input as: \n",
    "    Data frame 'df'\n",
    "    List of features to one hot encode 'features'\n",
    "    Boolean for how to deal with NA's 'withNA'\n",
    "\n",
    "    This function creates a set of output features from a categorical feature\n",
    "    The output features are one hot encodings with names featureName_{value}\n",
    "    Returns a new data frame (does not modify original dataframe) with appended features\n",
    "    Usually the NA values are also considered\n",
    "    Will add a column featureName_none one hot encoding of NA values\n",
    "    If the boolean withNA is false, it will not consider NA values\n",
    "\n",
    "    If a feature is not found, it will ignore that feature and attempt to one hot the other features\n",
    "\n",
    "    Code from Numpy and Pandas SUSA guide\n",
    "    crash-course/Python/Numpy and Pandas.ipynb\n",
    "    \"\"\"\n",
    "    # Copy over data\n",
    "    newDf = df.copy()\n",
    "    for feature in features:\n",
    "        try:\n",
    "            if withNA:\n",
    "                newDf[feature] = newDf[feature].fillna('none')\n",
    "            col_onehot = pd.get_dummies(newDf[feature], prefix=feature) \n",
    "            newDf = newDf.drop(feature, axis=1)\n",
    "            newDf = newDf.join(col_onehot)\n",
    "        except:\n",
    "            print(\"No such feature\", feature, \"found in the dataframe when trying to one-hot encode\")\n",
    "    return newDf\n",
    "\n",
    "\n",
    "\n",
    "def categoricalToQuantitative(df,feature, mapping,assumeInOrder = False):\n",
    "    \"\"\"\n",
    "    This function is for ordered categorical features \n",
    "\n",
    "    This function takes in input as: \n",
    "    Data frame 'df'\n",
    "    A single categorical feature to to be mapped 'feature'\n",
    "    A mapping dictionary 'mapping'\n",
    "\n",
    "    This function creates takes a dataframe and categorical feature, and maps the categorical values\n",
    "    using the dictionary mapping\n",
    "    Returns a new data frame (does not modify original dataframe) with modified values for the feature column\n",
    "    For mappings with NA values, use 'NA' in the dictionary, this function properly deals with them\n",
    "\n",
    "    If the mapping is just from 0 to n-1 for n values\n",
    "    Then set default to True, and mapping is instead a list of ordering from worst to best\n",
    "\n",
    "    If a feature is not found, the function will fail\n",
    "    \"\"\"\n",
    "    newDf = df.copy()\n",
    "    try:\n",
    "        currFeature = df[feature]\n",
    "    except:\n",
    "        print(\"No such feature\", feature, \"found in the dataframe when trying to map\")\n",
    "        return newDf\n",
    "    # Check if input mapping and all unique values for feature are equal\n",
    "    newDf[feature] = newDf[feature].fillna('nan')\n",
    "    if assumeInOrder:\n",
    "        keys = mapping\n",
    "    else:\n",
    "        keys = mapping.keys()\n",
    "    uniqueSet = set(newDf[feature].unique())\n",
    "    keySet = set(keys)\n",
    "    if 'NA' in keySet:\n",
    "        keySet.add('nan')\n",
    "        keySet.remove('NA')\n",
    "    diff = uniqueSet.difference(keySet)\n",
    "    diff2 = keySet.difference(uniqueSet)\n",
    "    if len(diff) != 0:\n",
    "        print(\"Missing value(s)\",diff,\"in mapping\",feature,\"unable to map all values\")\n",
    "        return newDf\n",
    "    if len(diff2) != 0:\n",
    "        print(\"Warning: no such values\",diff2,\"in feature\",feature,\"(they may not appear)\")\n",
    "    # Create mapping\n",
    "    if assumeInOrder:\n",
    "        newMapping ={}\n",
    "        for i in range(len(mapping)):\n",
    "            if mapping[i] == 'NA':\n",
    "                newMapping['nan'] = i \n",
    "            else:\n",
    "                newMapping[mapping[i]] = i\n",
    "    else:    \n",
    "        newMapping = mapping.copy()\n",
    "        if 'NA' in newMapping.keys():\n",
    "            newMapping['nan'] = newMapping['NA']\n",
    "    newDf[feature] = newDf[feature].apply(lambda feat: newMapping[feat] if feat in newMapping.keys() else feat)\n",
    "    return newDf"
   ]
  },
  {
   "cell_type": "markdown",
   "metadata": {},
   "source": [
    "Let's use the first function `oneHotFeature` first. Consider the `Heating` feature. There are $5$ possible values, Brick & Tile, Cinder Block, Poured Concrete, Slab, Stone and Wood. There isn't an inherent ordering to these, where one is better than the other. The best way to go about preprocessing the data is through one hot encoding the data. We remove the `Foundation` feature and replace it with $5$ separate boolean features, one for each of the possible values.\n",
    "\n",
    "The dataframe is shown below. Keep in mind that the original dataframe, `train`, is not modified in this function call."
   ]
  },
  {
   "cell_type": "code",
   "execution_count": null,
   "metadata": {},
   "outputs": [],
   "source": [
    "oneHotFeature(train,['Foundation']).head(10)"
   ]
  },
  {
   "cell_type": "code",
   "execution_count": null,
   "metadata": {},
   "outputs": [],
   "source": [
    "# Train is not modified\n",
    "train['Foundation'].head(10)"
   ]
  },
  {
   "cell_type": "markdown",
   "metadata": {},
   "source": [
    "Now we may try this with the other function `categoricalToQuantitative`, mapping a categorical data where there is an quantitative correspondence. Consider the feature `FireplaceQu`. There are $6$ possible values, `Ex`, `Gd`, `TA`, `Fa`, `Po`, `NA`, corresponding to Excellent, Good, Average, Fair, Poor, and No fireplace. These could be mapped to the values from $0$ to $5$, in order of quality. Thus we can make a dictionary of values, where `Ex` corresponds to $5$, `Gd` corresponds to $4$, ..., `NA` corresponds to zero. This is written out below."
   ]
  },
  {
   "cell_type": "code",
   "execution_count": null,
   "metadata": {},
   "outputs": [],
   "source": [
    "mapping = {}\n",
    "mapping['NA'] = 0\n",
    "mapping['Po'] = 1\n",
    "mapping['Fa'] = 2\n",
    "mapping['TA'] = 3\n",
    "mapping['Gd'] = 4\n",
    "mapping['Ex'] = 5\n",
    "\n",
    "print(train['FireplaceQu'].head(10))\n",
    "print(categoricalToQuantitative(train,'FireplaceQu',mapping)['FireplaceQu'].head(10))"
   ]
  },
  {
   "cell_type": "markdown",
   "metadata": {},
   "source": [
    "However, it is a bit annoying to type out the entire dictionary like that if we would like to order from $0$ to $5$. Another variable in `categoricalToQuantitative` is `default`. If `assumeInOrder` is true, then mapping is instead a list of variables rather than a dictionary, and we can just pass in the order of values from worst to best. This maps from $0$ to $n-1$ when there are $n$ possible values. This is more convenient, but it may be better at times to be able to customize how you want to map the values."
   ]
  },
  {
   "cell_type": "code",
   "execution_count": null,
   "metadata": {},
   "outputs": [],
   "source": [
    "mapping = ['NA','Po','Fa','TA','Gd','Ex']\n",
    "#Notice these mappings are the same\n",
    "print(categoricalToQuantitative(train,'FireplaceQu',mapping,assumeInOrder=True)['FireplaceQu'].head(10))"
   ]
  },
  {
   "cell_type": "markdown",
   "metadata": {},
   "source": [
    "If you would like to remove a feature, use the code like the example shown below."
   ]
  },
  {
   "cell_type": "markdown",
   "metadata": {},
   "source": [
    "`example_df.drop(bad_feature, axis=1)`"
   ]
  },
  {
   "cell_type": "markdown",
   "metadata": {},
   "source": [
    "Use the above two functions to clean the dataset! This may take a while, but doing a good job should take a while. Decide what variables are not worth keeping, decide what categorical features need to be changed, and how they should be changed. Consider how to deal with NA values, and keep all these commands together. We would recommend to save the final cleaned file as a csv so that you may easily reopen and send it, and also keep all the commands together neatly in the code block below.\n",
    "\n",
    "Some recommendations:\n",
    "> 1. Convert all features into quantitative values\n",
    "> 2. While cleaning, keep in mind some features that you feel are very helpful.\n",
    "> 3. Remove features that do not seem important."
   ]
  },
  {
   "cell_type": "code",
   "execution_count": null,
   "metadata": {},
   "outputs": [],
   "source": [
    "# DATA CLEANING\n",
    "# To start off data cleaning\n",
    "clean = train.copy()\n",
    "\n",
    "clean = categoricalToQuantitative(clean,'FireplaceQu',['NA','Po','Fa','TA','Gd','Ex'],assumeInOrder=True)\n",
    "clean = oneHotFeature(clean,['Foundation'])\n",
    "\n",
    "# ====================== DO NOT INCLUDE IN FINAL WORKBOOK ========================\n",
    "# ================================================================================\n",
    "\n",
    "\n",
    "    \n",
    "# ================================================================================\n",
    "# ================================================================================\n",
    "\n",
    "# You will be selecting your important features explicitly later. \n",
    "# But is there anything you want to get rid of explicitly now?\n",
    "unimportantFeatures = ['Id'] ## ADD MORE FEATURES?\n",
    "for feat in unimportantFeatures:\n",
    "    clean = clean.drop(feat, axis=1)\n",
    "\n",
    "## To view what your cleaned dataframe looks like\n",
    "clean.head(10)"
   ]
  },
  {
   "cell_type": "markdown",
   "metadata": {},
   "source": [
    "To save the dataframe as comma-separated values (CSV) file, run this line of code."
   ]
  },
  {
   "cell_type": "code",
   "execution_count": null,
   "metadata": {},
   "outputs": [],
   "source": [
    "# Save to csv\n",
    "clean.to_csv('DATA/house-prices/train_cleaned.csv')"
   ]
  },
  {
   "cell_type": "markdown",
   "metadata": {},
   "source": [
    "<a id='iii'></a>\n",
    "# III. Exploratory Data Analysis\n",
    "\n",
    "Now that we've cleaned up our data, at this point you would usually do a careful, thorough investigation into the patterns, outliers, and relationships between your features and the response variable, and the features with one another. This is often the most creative - and hardest - part of the Data Science Workflow. While you will be conducting more EDA on your cleaned dataset in future weeks, for now we're just going to go over some essentials of EDA and a couple of visualizations for you to interpret. \n",
    "\n",
    "There are a few things you should watch for when you conduct EDA. You should always check for outliers, to get a better idea of where your model may go wrong. We're going to skip this step for now, but you should check for outliers in this dataset when you work with your team or over SUSA Office Hours! EDA also helps give you a more explicit understanding of your data, and allows you to make educated decisions in your modeling design.\n",
    "\n",
    "For example, to better guess which features we should include in our model, there are a few guidelines that EDA can shed light upon. First, it is generally a bad idea to use too many features that are correlated (a.k.a high colinearity). Secondly, we can use EDA to see which features correlate with our response variable, `SalePrice` - these features will likely be useful in forming our model. \n",
    "\n",
    "## Avoiding Colinearity\n",
    "\n",
    "**Colinear** features are variables that can be exactly represented with a linear relationship. It is a statistical fact that you cannot make a linear model for features that are in any way colinear. Even if two features are not colinear, if they are highly correlated or nearly colinear, you want to avoid using both features if possible. This is because our model will get confused about which feature affects our response variable, since both variables affect each other too. \n",
    "\n",
    "You can check for high correlation with a **correlation plot**, which uses color to indicate which pairs of features are correlated. Below is a correlation plot of features with an absolute correlation of .7 or above. \n",
    "\n",
    "![](GRAPHICS/corr_features.png)\n",
    "\n",
    "> Which pairs of features are highly correlated? When you select your features, make sure you don't select pairs of features with a pinkish or greenish correlation square. \n",
    "\n",
    "One thing to keep aware of is that correlation only indicates what you might intuit it to mean for linear relationships. You can use a **pairs plot** to see the pairwise relationships between features in your data. \n",
    "\n",
    "![](GRAPHICS/corr_pairs.png)\n",
    "\n",
    "> Which of the correlated features above show a linear trend in the related pair plot?\n",
    "\n",
    "## Features Correlated with the Response Variable\n",
    "\n",
    "To inform which features will be important in predicting `SalePrice`, it would be useful to see which of the 79 features are correlated with `SalePrice`. Below is a matrix of plots - each plot is a simple linear regression between an individual numerical feature with `SalePrice`. \n",
    "\n",
    "![](GRAPHICS/y_pairs.png)\n",
    "\n",
    "> Which of these features are associated with a high `SalePrice`? How might this inform your model selection?\n",
    "\n",
    "There is definitely a lot more to be said on how EDA can inform your modeling process and verify your model assumptions. For more information, check out the `r3` workshop or stay tuned for later weeks' expansionary material on EDA!"
   ]
  },
  {
   "cell_type": "markdown",
   "metadata": {},
   "source": [
    "<a id='iiii'></a>\n",
    "# IV. Modeling\n",
    "\n",
    "An important part to any good statisticians toolkit.\n",
    "\n",
    "> ***What I cannot create, I cannot understand.***\n",
    ">\n",
    ">  \\- Richard Feynman (Honorary Statistician)\n",
    "\n",
    "## Feature Selection\n",
    "\n",
    "Modeling begins with a guess. To create a model for data, you must guess the relevant features necessary to recreate the data distribution. Even among expert statisticians, this is regarded as a hard skill, bordering on art. Oftentimes, industry experts will provide insight as to what the right features to select are, and stasticians (like ourselves) will have to create a model from those features.\n",
    "\n",
    "There are lots of mathematical principles to guide your feature selection. So we'll begin with a theorem.\n",
    "> **Theorem 1.1**\n",
    ">\n",
    "> -- just kidding we're not that evil\n",
    "\n",
    "But seriously, there are lots of principles on how to do this correctly. But for now, do whatever feels intuitive. Explore. Create. Be inefficient. Only through walking can you learn to run. \n",
    "\n",
    "## A First Approach to Machine Learning: Linear Regression\n",
    "\n",
    "Linear regression is the most important tool in a modeler's toolkit. It's the basis for which almost all other modeling techniques arise. Essentially, it's a way to model a variable out a weighted combination of other random variables in the data.\n",
    "\n",
    "$$ \\hat{Y} = aA + bB +cC + \\ldots $$\n",
    "where **a, b, c** are (scalar) weight values, and **A, B, C** are features in the dataset, and **$\\hat{Y}$** is our modeled variable.\n",
    "\n",
    "Mathematicians have derivatives, functions, and domains.\n",
    "\n",
    "Statisticians have linear regression, data, and raw untamed IQ.\n",
    "\n",
    "Okay so the gameplan is to give an example of how to **a) select features** and how to **b) create a model**. Specifically, we ask you to model the `SalePrice` column of the dataframe from any combination of features you choose.\n",
    "\n",
    "For our linear model, we will be using the linear regression model from `scikit-learn`. The docs are provided [here](http://scikit-learn.org/stable/modules/generated/sklearn.linear_model.LinearRegression.html).\n",
    "\n",
    "#### [Meta Tips]\n",
    "Good ways to approach things you are not familiar with: here's my steps for this\n",
    "1. What is a linear model?\n",
    "2. What inputs does it take? What ouput does it give?\n",
    "3. How do I get inputs from the Pandas dataframe into a format that works with the Linear Regression model?\n",
    "4. Did I run the model correctly?\n",
    "5. How can I tell?\n",
    "6. What are other inputs I can try?\n",
    "\n",
    "... etc"
   ]
  },
  {
   "cell_type": "code",
   "execution_count": null,
   "metadata": {},
   "outputs": [],
   "source": [
    "from sklearn.linear_model import LinearRegression # There are lots of other models from this module you can try!\n",
    "\n",
    "def get_features(data, col_list, y_name):\n",
    "    \"\"\"\n",
    "    Function to return a numpy matrix of pandas dataframe features, given k column names and a single y column\n",
    "    Outputs X, a n X k dimensional numpy matrix, and Y, an n X 1 dimensional numpy matrix.\n",
    "    This is not a smart function - although it does drop rows with NA values. It might break. \n",
    "    \n",
    "    data(DataFrame): e.g. train, clean\n",
    "    col_list(list): list of columns to extract data from\n",
    "    y_name(string): name of the column you to treat as the y column\n",
    "    \n",
    "    Ideally returns one np.array of shape (len(data), len(col_list)), and one of shape (len(data), len(col_list))\n",
    "    \"\"\"\n",
    "    \n",
    "    # keep track of numpy values\n",
    "    feature_matrix = data[col_list + [y_name]].dropna().values\n",
    "    return feature_matrix[:, :-1], feature_matrix[:, -1]\n",
    "    \n",
    "\n",
    "# Initialize our linear regression model\n",
    "first_model = LinearRegression()\n",
    "\n",
    "# X is a matrix of inputs, Y is the variable we are trying to learn\n",
    "feature_cols = ['LotArea', 'Utilities', 'OverallCond', 'BsmtFinSF1', 'MasVnrArea']\n",
    "X, Y = get_features(clean, feature_cols, 'SalePrice')\n",
    "\n",
    "# Fit the model to the data\n",
    "first_model.fit(X, Y)"
   ]
  },
  {
   "cell_type": "markdown",
   "metadata": {},
   "source": [
    "<a id='v'></a>\n",
    "# V. Model Evaluation\n",
    "\n",
    "Now it's time to actually see how your model performed!\n",
    "\n",
    "First, let's check the $R^2$ for our model, which measures how much variation in our `SalesPrice` is accounted for in our model. \n",
    "\n",
    "We also print the **bias**, or intercept of our model, which tells us the predicted `SalesPrice` of a house with 0 in all features. \n",
    "\n",
    "(Note: this is a separate usage of the word *bias* which we've previously used to characterize underfitting in the Bias-Variance Tradeoff.)"
   ]
  },
  {
   "cell_type": "code",
   "execution_count": null,
   "metadata": {},
   "outputs": [],
   "source": [
    "r2_coeff = first_model.score(X, Y)\n",
    "bias = first_model.intercept_\n",
    "print(\"r^2 coeff: {:.3f}\".format(r2_coeff))\n",
    "print(\"bias: {:.2f}\".format(bias))"
   ]
  },
  {
   "cell_type": "markdown",
   "metadata": {},
   "source": [
    "To get the actual loss of the model, we'll compute the mean squared error on the train dataset. **NOTE:** Be wary here of overfitting. In a more usual setting, you would instead evaluate your model on a separate set of data called the *test set*. Here, we are training and evaluating our data on the same dataset. However, because we are using linear models which are too simple to overfit our data, it makes a decent way to evaluate your model. In the future, ~20% of the dataset should be set aside for evaluating the model. This is to make sure models *generalize* their predictions.\n",
    "\n",
    "So how does your collection of selected features perform on predicting `SalePrice` using a multivariate linear model?"
   ]
  },
  {
   "cell_type": "code",
   "execution_count": null,
   "metadata": {},
   "outputs": [],
   "source": [
    "def get_loss(model, data, col_list, true_y_col_name):\n",
    "    \"\"\"Returns L2 loss between Y_hat and true values\n",
    "    \n",
    "    model(Model object): model we use to predict values\n",
    "    data(DataFrame): where we get our data from\n",
    "    col_list(list): list of column names that our model uses to predict on\n",
    "    true_col_name(String): name of the column in data we wish to predict\n",
    "    \"\"\"\n",
    "    X, Y_true = get_features(data, col_list, true_y_col_name)\n",
    "    Y_hat = model.predict(X)\n",
    "    return np.mean((Y_true-Y_hat)**2)\n",
    "\n",
    "loss = get_loss(first_model, clean, feature_cols, 'SalePrice')\n",
    "print(\"Mean Squared Error loss of our model: {:.2f}\".format(loss))"
   ]
  },
  {
   "cell_type": "markdown",
   "metadata": {},
   "source": [
    "> 1. How does your MSE compare to the error of the other team's models? Is there another team that did better? Why? Is there another team that did worse? Why?\n",
    "> 2. Do you have any preliminary ideas on how to reduce your MSE further?"
   ]
  },
  {
   "cell_type": "markdown",
   "metadata": {},
   "source": [
    "<a id='conclusion'></a>\n",
    "# Conclusion\n",
    "\n",
    "This ends the first of our four collaborative sessions on the Kaggle Housing Prices competition. This week or the next would be a good time to come to a SUSA Office Hour and finish cleaning your dataset and getting more performant feature selections. This project will take much more work than was covered in this first hour, but as always, please email [Arun Ramamurthy](mailto:contact@arun.run), [Patrick Chao](mailto:prc@berkeley.edu), or [Noah Gundotra](mailto:noah.gundotra@berkeley.edu) or with any questions or concerns whatsoever. Happy machine learning!\n",
    "\n",
    "## Sneakpeek at SUSA Kaggle Competition II\n",
    "\n",
    "Next week, we're going to continue our initial modeling of the House Prices dataset with more EDA, a new algorithm for guaranteeing lack of colinearity called **Principal Component Analysis**, and cover concepts in **feature engineering**. The models we will be focusing on next week are **Polynomial Regression** and **Regularized Regression**. Stay tuned!\n",
    "\n",
    "<a id='reading'></a>\n",
    "# Additional Reading\n",
    "* For more information on the Kaggle API, a command-line program used to download and manage Kaggle datasets, visit the [Kaggle API Github page](https://github.com/Kaggle/kaggle-api)  \n",
    "* For an interactive guide to learning R and Python, visit [DataCamp](https://www.datacamp.com/) a paid tutorial website for learning data computing.\n"
   ]
  }
 ],
 "metadata": {
  "kernelspec": {
   "display_name": "Python 3",
   "language": "python",
   "name": "python3"
  },
  "language_info": {
   "codemirror_mode": {
    "name": "ipython",
    "version": 3
   },
   "file_extension": ".py",
   "mimetype": "text/x-python",
   "name": "python",
   "nbconvert_exporter": "python",
   "pygments_lexer": "ipython3",
   "version": "3.6.4"
  }
 },
 "nbformat": 4,
 "nbformat_minor": 2
}
