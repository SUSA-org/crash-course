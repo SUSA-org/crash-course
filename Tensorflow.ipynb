{
 "cells": [
  {
   "cell_type": "markdown",
   "metadata": {},
   "source": [
    "# Using Tensorflow\n",
    "\n",
    "---\n",
    "\n",
    "This is a quick primer on setting up clean computational graphs, and how to execute them.\n",
    "\n",
    "The following commands will be covered in a practical manner.\n",
    "\n",
    "* tf.Session\n",
    "    * tf.Session.eval(TENSOR)\n",
    "* tf.Matmul\n",
    "* tf.Placeholder\n",
    "* tf.Constant\n",
    "\n",
    ":) Yeah that's pretty much it"
   ]
  },
  {
   "cell_type": "code",
   "execution_count": 3,
   "metadata": {
    "scrolled": true
   },
   "outputs": [],
   "source": [
    "import tensorflow as tf"
   ]
  },
  {
   "cell_type": "code",
   "execution_count": 4,
   "metadata": {},
   "outputs": [
    {
     "data": {
      "text/plain": [
       "'1.3.0'"
      ]
     },
     "execution_count": 4,
     "metadata": {},
     "output_type": "execute_result"
    }
   ],
   "source": [
    "tf.__version__"
   ]
  },
  {
   "cell_type": "markdown",
   "metadata": {},
   "source": [
    "## How to use Tensorflow?\n",
    "\n",
    "Tensorflow is a library written mostly in C, or a special GPU-specific language called CUDA/CuDNN, that creates a *static computation graph* with a Python API.\n",
    "\n",
    "What does this mean?\n",
    "\n",
    "It means we can write code in Python to run complex operations repetitively using Tensorflow. Major constraint: the organization has to have a static structure, meaning you have to specify __*clearly*__ where the inputs are.\n",
    "\n",
    "How does this affect the coding?\n",
    "\n",
    "Creation of tensorflow program is basically unusable by anyone outside of the creators **UNLESS** the tensors are named in an organized manner. Otherwise debugging someone else's tensorflow code will create a clinical level migraine."
   ]
  },
  {
   "cell_type": "code",
   "execution_count": 8,
   "metadata": {},
   "outputs": [],
   "source": [
    "import numpy as np\n",
    "# this is what I call pyenglish\n",
    "# interjecting language with import statements"
   ]
  },
  {
   "cell_type": "markdown",
   "metadata": {},
   "source": [
    "## Using tensorflow: Sessions and Constants\n",
    "\n",
    "Tensorflow creates Sessions to manage the actual memory associated with various computational graphs and their executions. One can create different computational graphs with a single session, but to execute any specific part of a given computational graph, one needs a session.\n",
    "\n",
    "What does this mean?\n",
    "\n",
    "To run a Tensorflow program, we need to specify the parts, name them, and put them together––and then create a session to get the values of the different parts (tensors)."
   ]
  },
  {
   "cell_type": "code",
   "execution_count": 13,
   "metadata": {},
   "outputs": [],
   "source": [
    "\"\"\"Let's create a line!\n",
    "Line form:\n",
    "y = Ax + b\n",
    "A - slope of 1\n",
    "b - bias of -1\"\"\"\n",
    "\n",
    "A = tf.constant([1], dtype=tf.float32)\n",
    "b = tf.constant([-1],dtype=tf.float32)\n",
    "x = tf.placeholder(shape=[1],dtype=tf.float32)\n",
    "\n",
    "y = A*x + b\n",
    "\n",
    "sess = tf.Session()\n",
    "out = sess.run(y, feed_dict={x:[1]})"
   ]
  },
  {
   "cell_type": "code",
   "execution_count": 18,
   "metadata": {},
   "outputs": [],
   "source": [
    "out = []\n",
    "for i in range(100):\n",
    "    out.append(sess.run(y,feed_dict={x: [i]}))"
   ]
  },
  {
   "cell_type": "code",
   "execution_count": 20,
   "metadata": {},
   "outputs": [
    {
     "data": {
      "image/png": "[encoded data removed]",
      "text/plain": [
       "<matplotlib.figure.Figure at 0x11d506908>"
      ]
     },
     "metadata": {},
     "output_type": "display_data"
    }
   ],
   "source": [
    "import matplotlib.pyplot as plt\n",
    "plt.plot(list(range(100)),out)\n",
    "plt.show()"
   ]
  },
  {
   "cell_type": "code",
   "execution_count": null,
   "metadata": {},
   "outputs": [],
   "source": []
  }
 ],
 "metadata": {
  "kernelspec": {
   "display_name": "pyKaggle",
   "language": "python",
   "name": "pykaggle"
  },
  "language_info": {
   "codemirror_mode": {
    "name": "ipython",
    "version": 3
   },
   "file_extension": ".py",
   "mimetype": "text/x-python",
   "name": "python",
   "nbconvert_exporter": "python",
   "pygments_lexer": "ipython3",
   "version": "3.6.2"
  }
 },
 "nbformat": 4,
 "nbformat_minor": 2
}
