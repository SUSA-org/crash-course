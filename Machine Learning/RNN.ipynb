{
 "cells": [
  {
   "cell_type": "markdown",
   "metadata": {},
   "source": [
    "# Recurrent Neural Networks"
   ]
  },
  {
   "cell_type": "markdown",
   "metadata": {},
   "source": [
    "## Core Ideas"
   ]
  },
  {
   "cell_type": "markdown",
   "metadata": {},
   "source": [
    "1. Allow us to operate over sequences of vectors (in the input and the output) as opposed to normal feed-forward neural networks and convolutional neural networks which require fixed length vectors.\n",
    "2. Are effective in representing conditional memory - next output is determined from the one before (temporal dependencies)."
   ]
  },
  {
   "cell_type": "markdown",
   "metadata": {},
   "source": [
    "## Applications"
   ]
  },
  {
   "cell_type": "markdown",
   "metadata": {},
   "source": [
    "![title](img/sequences.png)"
   ]
  },
  {
   "cell_type": "markdown",
   "metadata": {},
   "source": [
    "One to many - Image captioning <br>\n",
    "Many to one - Sentiment classification <br>\n",
    "Many to many - Translation (sequence of words -> sequence of words) <br>\n",
    "Many to many (one to one correspondence between input and output) - Video classification on frame level <br>"
   ]
  },
  {
   "cell_type": "markdown",
   "metadata": {},
   "source": [
    "# How RNNs Work"
   ]
  },
  {
   "cell_type": "markdown",
   "metadata": {},
   "source": [
    "### Recurrent Neuron\n",
    "![title](img/recurrentneuron.png) <br>"
   ]
  },
  {
   "cell_type": "markdown",
   "metadata": {},
   "source": [
    "### Recurrence Relation\n",
    "Each \"cell\" has an internal state that gets updated with each input:\n",
    "$$ h_t = \\phi(W_R * h_{t-1} + W_I * x_t + b_h)$$ \n",
    "$$ \\hat{y_t} = g_y(W_{y} * h_t + b_y) $$\n",
    "$ h_t $ = new state <br>\n",
    "$ \\phi $ = Some activation function <br>\n",
    "$ W_{R} $ = Matrix of weights connecting hidden layer to hidden layer <br>\n",
    "$ h_{t-1} $ = Previous hidden state <br>\n",
    "$ W_{I} $ = Matrix of weights connecting input layer to hidden layer <br>\n",
    "$ x_t $ = Input vector at time step t <br>\n",
    "$ b_h $ = Bias vector for hidden layer <br>\n",
    "$ \\hat{y_t} $ = Predicted vector for time step t <br>\n",
    "$ y_t $ = Actual vector for time step t <br>\n",
    "$ g_y $ = Function to get normalized probabilities, softmax $(\\frac {e^{f_k}}{\n",
    "\\sum_{j} e^{f_j}})$<br>\n",
    "$ W_{Y} $ = Matrix of weights connecting hidden layer to output layer <br>\n",
    "$ b_y $ = Bias vector for output layer <br>\n"
   ]
  },
  {
   "cell_type": "markdown",
   "metadata": {},
   "source": [
    "### Computation Graph Unrolled\n",
    "![title](img/unrolled.png) <br>\n",
    "-  Reuse same weight matrix $W_R$, can be thought of as a transition matrix in a Markov Chain\n",
    "-  Network emits output at every timestep"
   ]
  },
  {
   "cell_type": "markdown",
   "metadata": {},
   "source": [
    "### Backpropagation Through Time\n",
    "![title](img/cost_unrolled.png) <br>\n",
    "We define our cost function to be cross entropy:\n",
    "$$ C(y, \\hat{y}) = - \\sum_{t} y_t \\log{\\hat{y}_t}$$\n",
    "Backpropagation Through Time is the application of backpropagation  but after the network has been unrolled for all input timesteps. The key difference is that we sum up the gradients for the parameter at each time step. In a traditional neural network we don’t share parameters across layers, so we don’t need to sum anything. <br>"
   ]
  },
  {
   "cell_type": "markdown",
   "metadata": {},
   "source": [
    "We proceed by calculating the gradients of the cost with respect to our parameters $W_I$, $W_R$ and $W_y$ <br>\n",
    "Using the cost at time step 2 as an example: <br>\n",
    "Calculating the gradient for $W_y$ only depends on the values at the current time step <br>\n",
    "$$\\frac{\\partial C_2}{\\partial W_y} =  \\frac{\\partial C_2}{\\partial \\hat{y}_2} * \\frac{\\partial \\hat{y}_2}{\\partial h_2} * \\frac{\\partial h_2}{\\partial W_y} $$ <br>\n",
    "We do the same thing with $W_R$:\n",
    "$$ \\frac{\\partial C_2}{\\partial W_R} = \\frac{\\partial C_2}{\\partial \\hat{y}_2} * \\frac{\\partial \\hat{y}_2}{\\partial h_2} * \\frac{\\partial h_2}{\\partial W_R} $$ <br>\n",
    "However, $h_2 = \\phi(W_R * h_1 + W_I * x_t + b_h)$ which depends on $h_1$ and thus $W_R$. Therefore, we cannot treat $h_2$ as a constant. $W_R$ is used in every step of the output, so we need to backpropagate gradients from t=2 all the way to t=0.\n",
    "$$ \\frac{\\partial C_2}{\\partial W_R} = \\sum_{t=0}^2 \\frac{\\partial C_2}{\\partial \\hat{y}_2} * \\frac{\\partial \\hat{y}_2}{\\partial h_2} * \\frac{\\partial h_2}{\\partial h_t} * \\frac{\\partial h_t}{\\partial W_R} $$<br>\n",
    "The same reasoning applies for $W_I$"
   ]
  },
  {
   "cell_type": "markdown",
   "metadata": {
    "ExecuteTime": {
     "end_time": "2017-12-22T18:56:42.848327Z",
     "start_time": "2017-12-22T18:56:42.680072Z"
    }
   },
   "source": [
    "# Vanishing/Exploding Gradient Problem\n",
    "This idea of propagating all the way to time = 0 introduces the issue of vanishing or exploding gradients. The magnitude of the update for the weight matrix is going to scale with the size of weight matrices:\n",
    "$$ \\frac{\\partial C_T}{\\partial W_R} \\propto |W_R|^T * |\\frac{\\partial \\hat{y}}{\\partial h}|^T $$\n",
    "<br>\n",
    "If the recurrent weight is less than 1, then if you want to calculate the gradient at t=100, it will ne nearly 0. Alternatively, if $W_R$ is greater than 1, you will run into the problem of exploding gradients. There are ways to combat this issue: <br>\n",
    "<b> Exploding Gradient </b> <br>\n",
    "Truncuated Backpropagation Through Time - Instead of going from t= 100 to t =0, you will stop after for example 10 time steps, but then you lose temporal context. <br>\n",
    "Clip Gradients at Threshold - If a gradient is larger than a certain number, you just clip it to that number. <br>\n",
    "RMSprop to adjust learning rate - adaptive learning rate algorithm that adjusts learnign rate. <br>\n",
    "<b> Vanishing Gradients </b> <br>\n",
    "Harder to detect <br>\n",
    "Weight initialization <br>\n",
    "ReLu activation <br>\n",
    "RMSprop <br>\n",
    "Other Architectures - LSTMs and GRUs <br>\n",
    "\n"
   ]
  },
  {
   "cell_type": "markdown",
   "metadata": {},
   "source": [
    "# Minimal character-level Vanilla RNN model"
   ]
  },
  {
   "cell_type": "code",
   "execution_count": 32,
   "metadata": {
    "ExecuteTime": {
     "end_time": "2017-12-28T00:06:51.748162Z",
     "start_time": "2017-12-28T00:06:51.735696Z"
    },
    "collapsed": false
   },
   "outputs": [
    {
     "name": "stdout",
     "output_type": "stream",
     "text": [
      "data has 133 characters, 25 unique.\n"
     ]
    }
   ],
   "source": [
    "import numpy as np\n",
    "# data I/O\n",
    "#data = open('input.txt', 'r').read() # should be simple plain text file\n",
    "data = \"Oh, that this too, too sullied flesh would melt, Thaw, and resolve itself into a dew, Or that the Everlasting had not fixed His canon\"\n",
    "chars = list(set(data))\n",
    "data_size, vocab_size = len(data), len(chars)\n",
    "print ('data has %d characters, %d unique.' % (data_size, vocab_size))\n",
    "#Creating dictionaries for one hot encodings\n",
    "char_to_ix = { ch:i for i,ch in enumerate(chars) }\n",
    "ix_to_char = { i:ch for i,ch in enumerate(chars) }"
   ]
  },
  {
   "cell_type": "code",
   "execution_count": 48,
   "metadata": {
    "ExecuteTime": {
     "end_time": "2017-12-28T15:04:09.461664Z",
     "start_time": "2017-12-28T15:04:09.148769Z"
    },
    "collapsed": false
   },
   "outputs": [
    {
     "data": {
      "text/plain": [
       "array([ 0.,  0.,  0.,  0.,  0.,  0.,  0.,  0.,  0.,  0.,  0.,  0.,  0.,\n",
       "        0.,  0.,  0.,  0.,  0.,  0.,  1.,  0.,  0.,  0.,  0.,  0.])"
      ]
     },
     "execution_count": 48,
     "metadata": {},
     "output_type": "execute_result"
    }
   ],
   "source": [
    "#Example one hot encoding of letter a\n",
    "a_array = np.zeros((vocab_size, 1))\n",
    "a_array[char_to_ix['a']] = 1\n",
    "a_array.ravel()"
   ]
  },
  {
   "cell_type": "code",
   "execution_count": 34,
   "metadata": {
    "ExecuteTime": {
     "end_time": "2017-12-28T00:06:52.629874Z",
     "start_time": "2017-12-28T00:06:52.624247Z"
    },
    "collapsed": true
   },
   "outputs": [],
   "source": [
    "# hyperparameters\n",
    "hidden_size = 100 # size of hidden layer of neurons\n",
    "seq_length = 25 # number of steps to unroll the RNN for\n",
    "learning_rate = 1e-1"
   ]
  },
  {
   "cell_type": "code",
   "execution_count": 41,
   "metadata": {
    "ExecuteTime": {
     "end_time": "2017-12-28T00:10:36.242971Z",
     "start_time": "2017-12-28T00:10:36.236601Z"
    },
    "collapsed": true
   },
   "outputs": [],
   "source": [
    "# Model parameters\n",
    "Wxh = np.random.randn(hidden_size, vocab_size)*0.01 # input to hidden (W_I)\n",
    "Whh = np.random.randn(hidden_size, hidden_size)*0.01 # hidden to hidden (W_R)\n",
    "Why = np.random.randn(vocab_size, hidden_size)*0.01 # hidden to output (W_y)\n",
    "bh = np.zeros((hidden_size, 1)) # hidden bias \n",
    "by = np.zeros((vocab_size, 1)) # output bias "
   ]
  },
  {
   "cell_type": "code",
   "execution_count": 42,
   "metadata": {
    "ExecuteTime": {
     "end_time": "2017-12-28T00:10:36.861095Z",
     "start_time": "2017-12-28T00:10:36.826492Z"
    },
    "collapsed": false
   },
   "outputs": [],
   "source": [
    "def lossFun(inputs, targets, hprev):\n",
    "    \"\"\"\n",
    "    Takes in inputs and target lists at current time step and hidden state at the previous time step.\n",
    "    Returns the loss, gradients on model parameters, and last hidden state.\n",
    "    \"\"\"\n",
    "    #store our inputs, hidden states, outputs, and probability values\n",
    "    xs, hs, ys, ps = {}, {}, {}, {}\n",
    "    # Each of these are going to be SEQ_LENGTH(Here 25) long dicts - 1 vector per time step\n",
    "    # xs will store 1 hot encoded input characters for each of 25 time steps\n",
    "    # hs will store hidden state outputs for 25 time steps (100, 25 times)) plus a -1 indexed initial state\n",
    "    # to calculate the hidden state at t = 0\n",
    "    # ys will store targets i.e. expected outputs for 25 times (26, 25 times), unnormalized probabs\n",
    "    # ps will take the ys and convert them to normalized probabilities for chars\n",
    "    hs[-1] = np.copy(hprev)\n",
    "    loss = 0\n",
    "    # forward pass\n",
    "    for t in range(len(inputs)):\n",
    "        xs[t] = np.zeros((vocab_size,1)) # encode in 1-of-k representation\n",
    "        xs[t][inputs[t]] = 1 #same thing as for 'a' above\n",
    "        hs[t] = np.tanh(np.dot(Wxh, xs[t]) + np.dot(Whh, hs[t-1]) + bh) # hidden state\n",
    "        ys[t] = np.dot(Why, hs[t]) + by # unnormalized log probabilities for next chars\n",
    "        ps[t] = np.exp(ys[t]) / np.sum(np.exp(ys[t])) # probabilities for next chars\n",
    "        loss += -np.log(ps[t][targets[t],0]) # softmax (cross-entropy loss)\n",
    "    # backward pass: compute gradients going backwards\n",
    "    #initalize vectors for gradient values for each set of weights\n",
    "    dWxh, dWhh, dWhy = np.zeros_like(Wxh), np.zeros_like(Whh), np.zeros_like(Why)\n",
    "    dbh, dby = np.zeros_like(bh), np.zeros_like(by)\n",
    "    dhnext = np.zeros_like(hs[0])\n",
    "    for t in reversed(range(len(inputs))):\n",
    "        dy = np.copy(ps[t])\n",
    "        dy[targets[t]] -= 1 # backprop into y.\n",
    "        dWhy += np.dot(dy, hs[t].T)\n",
    "        dby += dy\n",
    "        dh = np.dot(Why.T, dy) + dhnext # backprop into h\n",
    "        dhraw = (1 - hs[t] * hs[t]) * dh # backprop through tanh nonlinearity\n",
    "        dbh += dhraw\n",
    "        dWxh += np.dot(dhraw, xs[t].T)\n",
    "        dWhh += np.dot(dhraw, hs[t-1].T)\n",
    "        dhnext = np.dot(Whh.T, dhraw)\n",
    "    for dparam in [dWxh, dWhh, dWhy, dbh, dby]:\n",
    "        np.clip(dparam, -5, 5, out=dparam) # clip to mitigate exploding gradients\n",
    "    return loss, dWxh, dWhh, dWhy, dbh, dby, hs[len(inputs)-1]\n"
   ]
  },
  {
   "cell_type": "code",
   "execution_count": 45,
   "metadata": {
    "ExecuteTime": {
     "end_time": "2017-12-28T00:10:44.117813Z",
     "start_time": "2017-12-28T00:10:44.100243Z"
    },
    "collapsed": false
   },
   "outputs": [],
   "source": [
    "def sample(h, seed_ix, n):\n",
    "    \"\"\" \n",
    "    sample a sequence of integers from the model \n",
    "    h is memory state, seed_ix is seed letter for first time step\n",
    "    \"\"\"\n",
    "     #create vector\n",
    "    x = np.zeros((vocab_size, 1))\n",
    "    #customize it for our seed char\n",
    "    x[seed_ix] = 1\n",
    "    #list to store generated chars\n",
    "    ixes = []\n",
    "    #for as many characters as we want to generate\n",
    "    for t in range(n):\n",
    "    #a hidden state at a given time step is a function \n",
    "    #of the input at the same time step modified by a weight matrix \n",
    "    #added to the hidden state of the previous time step \n",
    "    #multiplied by its own hidden state to hidden state matrix.\n",
    "        h = np.tanh(np.dot(Wxh, x) + np.dot(Whh, h) + bh)\n",
    "    #compute output (unnormalised)\n",
    "        y = np.dot(Why, h) + by\n",
    "    ## probabilities for next chars\n",
    "        p = np.exp(y) / np.sum(np.exp(y))\n",
    "    #pick one with the highest probability \n",
    "        ix = np.random.choice(range(vocab_size), p=p.ravel())\n",
    "    #create a vector\n",
    "        x = np.zeros((vocab_size, 1))\n",
    "    #customize it for the predicted char\n",
    "        x[ix] = 1\n",
    "    #add it to the list\n",
    "        ixes.append(ix)\n",
    "    txt = ''.join(ix_to_char[ix] for ix in ixes)\n",
    "    print ('----\\n %s \\n----' % (txt, ))"
   ]
  },
  {
   "cell_type": "code",
   "execution_count": 46,
   "metadata": {
    "ExecuteTime": {
     "end_time": "2017-12-28T00:11:16.417389Z",
     "start_time": "2017-12-28T00:10:44.815254Z"
    },
    "collapsed": false
   },
   "outputs": [
    {
     "name": "stdout",
     "output_type": "stream",
     "text": [
      "iter 0, loss: 80.471891\n",
      "----\n",
      " oTv dTgHOwcTHhEimhOTuol,eliTnoo HHTHnuecHETeldnvmhrv idToxwiExiaeorvvndtnogmgteeusadcdwuEHcOngHEnEOntfmcHenrdtofuxnwfvlwcsxf etstOfroT ggEwd,,sotflaueumTH,HtsaxgTo,mtcxOexgHOEchTHrncTu sEEflHgutuu,ooa \n",
      "----\n",
      "iter 1000, loss: 43.385551\n",
      "----\n",
      " r thatitot,engthawould melt, Theeltseinoo aOdew, and resolverhastiog had ve Everlastingthad not fixed Hints anOtstims iashas th, ing had ve Everiad noo f no thie too, fixed Hirit the rlied Hing had Hi \n",
      "----\n",
      "iter 2000, loss: 16.600909\n",
      "----\n",
      " ullind llo, Thaelit tot, too r tos sringthaw, and resolve itself into a dew, Or that the Everlasting had not fixed Hiwo aed too sullied flesh would melt, Thaw, aooa Orold had no  fixtd wotielmelt, The \n",
      "----\n",
      "iter 3000, loss: 6.317732\n",
      "----\n",
      " hinxt lHing had not fixed Hiwathader, Overlasting had not fixed Hints andurelflesh would melt, Thaw, and resolve it eule Eve itself into a dew, Or that the Everlasting had not fixed Hinth Hind resolve \n",
      "----\n",
      "iter 4000, loss: 2.453180\n",
      "----\n",
      " ling had not fixed Hinotsesullied malt, Thaw, and resolve itself into a dew, Or that the Everlasting had not fixed Hioo aule melt, Thaw, and resolve itself into a dew, Eve iatolastingshaw, aoself, the \n",
      "----\n",
      "iter 5000, loss: 0.995789\n",
      "----\n",
      " lind resolve itself into a dew, Or that the Everlasting had not fixed Hints and resolve itself into a dew, Or the Eve lasting had not fixed Hints ang so eshaw, and resolve itself into a dew, Or that t \n",
      "----\n",
      "iter 6000, loss: 0.438548\n",
      "----\n",
      " r f ind resolve itself into a dew, Or that the Everlasting had not fixed Hive lflesh w, llitstlf into a dew, Or that the Everlasting had not fixed Hints andere hasting had not fixed Hintt Thaw, and re \n",
      "----\n",
      "iter 7000, loss: 0.220232\n",
      "----\n",
      " tied to sullied flesh would melt, Thaw, and resolve itself into a dew, Or that the Everlasting had not fixed Hive had rollliest Hirsting had not fixed Hinot f ooa tootsuld melto Hid too suiedeve has h \n",
      "----\n",
      "iter 8000, loss: 0.130602\n",
      "----\n",
      " ulli sullissleshat the Everlasting had not fixed Hintt asolverlasoaHiwo sullied flesh would melt, Thaw, and resolve itself into a dew, Or that the Everlasting had not fixed Hir that the Everlasting ha \n",
      "----\n",
      "iter 9000, loss: 0.090340\n",
      "----\n",
      " r Thaw, and resolve itself into a dew, Or that the Everlasting had not fisolveditlerlthawould melt, Thaw, and resolve itself into a dew, Or that the Everlasting had not fixed Hirlthatht, not  ioo sull \n",
      "----\n",
      "iter 10000, loss: 0.069880\n",
      "----\n",
      " lind resolve itself into a dew, Or that the Everlasting had not fixed Hinttied notsulli d into a daw, Or that the Everlasting had not fixed Hir thathad not fixed Hir ttotselfis ing had not fixed Hintt \n",
      "----\n",
      "iter 11000, loss: 0.058029\n",
      "----\n",
      " ullitd Or that the tooosellis aed fl the Everlasting had not fixed Hintulver thaw, and resolve itself into a dew, Or that the Everlasting had not fixed Hirstiedelllixed w,uld Hiuld melt, Thaw, and res \n",
      "----\n",
      "iter 12000, loss: 0.050194\n",
      "----\n",
      " s Thaw, and resolve itself into a dew, Or that the Everlasting had not fixed Hint angthad not fixed Hinttiesting had not fixed Hiwt llit, ixed Hirstieg had not fixed Hir tto, Or that the Everlasting h \n",
      "----\n"
     ]
    },
    {
     "ename": "KeyboardInterrupt",
     "evalue": "",
     "output_type": "error",
     "traceback": [
      "\u001b[0;31m---------------------------------------------------------------------------\u001b[0m",
      "\u001b[0;31mKeyboardInterrupt\u001b[0m                         Traceback (most recent call last)",
      "\u001b[0;32m<ipython-input-46-507243fbfaf4>\u001b[0m in \u001b[0;36m<module>\u001b[0;34m()\u001b[0m\n\u001b[1;32m     13\u001b[0m \u001b[0;34m\u001b[0m\u001b[0m\n\u001b[1;32m     14\u001b[0m     \u001b[0;31m# forward seq_length characters through the net and fetch gradient\u001b[0m\u001b[0;34m\u001b[0m\u001b[0;34m\u001b[0m\u001b[0m\n\u001b[0;32m---> 15\u001b[0;31m     \u001b[0mloss\u001b[0m\u001b[0;34m,\u001b[0m \u001b[0mdWxh\u001b[0m\u001b[0;34m,\u001b[0m \u001b[0mdWhh\u001b[0m\u001b[0;34m,\u001b[0m \u001b[0mdWhy\u001b[0m\u001b[0;34m,\u001b[0m \u001b[0mdbh\u001b[0m\u001b[0;34m,\u001b[0m \u001b[0mdby\u001b[0m\u001b[0;34m,\u001b[0m \u001b[0mhprev\u001b[0m \u001b[0;34m=\u001b[0m \u001b[0mlossFun\u001b[0m\u001b[0;34m(\u001b[0m\u001b[0minputs\u001b[0m\u001b[0;34m,\u001b[0m \u001b[0mtargets\u001b[0m\u001b[0;34m,\u001b[0m \u001b[0mhprev\u001b[0m\u001b[0;34m)\u001b[0m\u001b[0;34m\u001b[0m\u001b[0m\n\u001b[0m\u001b[1;32m     16\u001b[0m     \u001b[0msmooth_loss\u001b[0m \u001b[0;34m=\u001b[0m \u001b[0msmooth_loss\u001b[0m \u001b[0;34m*\u001b[0m \u001b[0;36m0.999\u001b[0m \u001b[0;34m+\u001b[0m \u001b[0mloss\u001b[0m \u001b[0;34m*\u001b[0m \u001b[0;36m0.001\u001b[0m\u001b[0;34m\u001b[0m\u001b[0m\n\u001b[1;32m     17\u001b[0m \u001b[0;34m\u001b[0m\u001b[0m\n",
      "\u001b[0;32m<ipython-input-42-27a314ab76b1>\u001b[0m in \u001b[0;36mlossFun\u001b[0;34m(inputs, targets, hprev)\u001b[0m\n\u001b[1;32m     23\u001b[0m         \u001b[0mdy\u001b[0m \u001b[0;34m=\u001b[0m \u001b[0mnp\u001b[0m\u001b[0;34m.\u001b[0m\u001b[0mcopy\u001b[0m\u001b[0;34m(\u001b[0m\u001b[0mps\u001b[0m\u001b[0;34m[\u001b[0m\u001b[0mt\u001b[0m\u001b[0;34m]\u001b[0m\u001b[0;34m)\u001b[0m\u001b[0;34m\u001b[0m\u001b[0m\n\u001b[1;32m     24\u001b[0m         \u001b[0mdy\u001b[0m\u001b[0;34m[\u001b[0m\u001b[0mtargets\u001b[0m\u001b[0;34m[\u001b[0m\u001b[0mt\u001b[0m\u001b[0;34m]\u001b[0m\u001b[0;34m]\u001b[0m \u001b[0;34m-=\u001b[0m \u001b[0;36m1\u001b[0m \u001b[0;31m# backprop into y. see http://cs231n.github.io/neural-networks-case-study/#grad if confused here\u001b[0m\u001b[0;34m\u001b[0m\u001b[0m\n\u001b[0;32m---> 25\u001b[0;31m         \u001b[0mdWhy\u001b[0m \u001b[0;34m+=\u001b[0m \u001b[0mnp\u001b[0m\u001b[0;34m.\u001b[0m\u001b[0mdot\u001b[0m\u001b[0;34m(\u001b[0m\u001b[0mdy\u001b[0m\u001b[0;34m,\u001b[0m \u001b[0mhs\u001b[0m\u001b[0;34m[\u001b[0m\u001b[0mt\u001b[0m\u001b[0;34m]\u001b[0m\u001b[0;34m.\u001b[0m\u001b[0mT\u001b[0m\u001b[0;34m)\u001b[0m\u001b[0;34m\u001b[0m\u001b[0m\n\u001b[0m\u001b[1;32m     26\u001b[0m         \u001b[0mdby\u001b[0m \u001b[0;34m+=\u001b[0m \u001b[0mdy\u001b[0m\u001b[0;34m\u001b[0m\u001b[0m\n\u001b[1;32m     27\u001b[0m         \u001b[0mdh\u001b[0m \u001b[0;34m=\u001b[0m \u001b[0mnp\u001b[0m\u001b[0;34m.\u001b[0m\u001b[0mdot\u001b[0m\u001b[0;34m(\u001b[0m\u001b[0mWhy\u001b[0m\u001b[0;34m.\u001b[0m\u001b[0mT\u001b[0m\u001b[0;34m,\u001b[0m \u001b[0mdy\u001b[0m\u001b[0;34m)\u001b[0m \u001b[0;34m+\u001b[0m \u001b[0mdhnext\u001b[0m \u001b[0;31m# backprop into h\u001b[0m\u001b[0;34m\u001b[0m\u001b[0m\n",
      "\u001b[0;31mKeyboardInterrupt\u001b[0m: "
     ]
    }
   ],
   "source": [
    "n, p = 0, 0\n",
    "mWxh, mWhh, mWhy = np.zeros_like(Wxh), np.zeros_like(Whh), np.zeros_like(Why)\n",
    "mbh, mby = np.zeros_like(bh), np.zeros_like(by) # memory variables for Adagrad                                                                                                                \n",
    "smooth_loss = -np.log(1.0/vocab_size)*seq_length # loss at iteration 0                                                                                                                        \n",
    "while n<=10000:\n",
    "    # prepare inputs (we're sweeping from left to right in steps seq_length long)\n",
    "    if p+seq_length+1 >= len(data) or n == 0:\n",
    "        hprev = np.zeros((hidden_size,1)) # reset RNN memory                                                                                                                                      \n",
    "        p = 0 # go from start of data\n",
    "        \n",
    "    #create mappings\n",
    "    inputs = [char_to_ix[ch] for ch in data[p:p+seq_length]]\n",
    "    targets = [char_to_ix[ch] for ch in data[p+1:p+seq_length+1]]\n",
    "\n",
    "    # forward seq_length characters through the net and fetch gradient                                                                                                                          \n",
    "    loss, dWxh, dWhh, dWhy, dbh, dby, hprev = lossFun(inputs, targets, hprev)\n",
    "    smooth_loss = smooth_loss * 0.999 + loss * 0.001\n",
    "\n",
    "    # sample from the model                                                                                                                                                        \n",
    "    if n % 1000 == 0:\n",
    "        print ('iter %d, loss: %f' % (n, smooth_loss)) # print progress\n",
    "        sample(hprev, inputs[0], 200)\n",
    "    \n",
    "    # perform parameter update with Adagrad (adaptive learning rate)                                                                                                                                                     \n",
    "    for param, dparam, mem in zip([Wxh, Whh, Why, bh, by],\n",
    "                                [dWxh, dWhh, dWhy, dbh, dby],\n",
    "                                [mWxh, mWhh, mWhy, mbh, mby]):\n",
    "        mem += dparam * dparam\n",
    "        param += -learning_rate * dparam / np.sqrt(mem + 1e-8) # adagrad update                                                                                                                   \n",
    "\n",
    "    p += seq_length # move data pointer                                                                                                                                                         \n",
    "    n += 1 # iteration counter"
   ]
  },
  {
   "cell_type": "markdown",
   "metadata": {},
   "source": [
    "# RNN Extensions"
   ]
  },
  {
   "cell_type": "markdown",
   "metadata": {},
   "source": [
    "Over the years researchers have developed more sophisticated types of RNNs to deal with some of the shortcomings of the vanilla RNN model."
   ]
  },
  {
   "cell_type": "markdown",
   "metadata": {},
   "source": [
    "# Bidirectional RNNs\n",
    " These are based on the idea that the output at time t may not only depend on the previous elements in the sequence, but also future elements. For example, to predict a missing word in a sequence you want to look at both the left and the right context. They are just two RNNs stacked on top of each other. The output is then computed based on the hidden state of both RNNs."
   ]
  },
  {
   "cell_type": "markdown",
   "metadata": {},
   "source": [
    "# LSTM\n",
    "Are a special kind of RNN, capable of learning long-term dependencies and working around the vanishing gradient problem."
   ]
  },
  {
   "cell_type": "markdown",
   "metadata": {},
   "source": [
    "![title](img/RNNvsLSTM.png) <br>\n"
   ]
  },
  {
   "cell_type": "markdown",
   "metadata": {},
   "source": [
    "## Cell State\n",
    "![title](img/cellstate.png) <br>\n",
    "The fundamental principle behind LSTMs is to write down everything to the cell state. This is done through three \"gates\" or vectors computed using a single-layer neural network. <br>"
   ]
  },
  {
   "cell_type": "markdown",
   "metadata": {},
   "source": [
    "## Forget Gate\n",
    "![title](img/forgetgate.png) <br>\n",
    "$$f_t = \\sigma(W_f * h_{t-1} + U_f * x_t + b_f) $$\n",
    "The forget gate looks at the $h_{t−1}$ hidden state and the input $x_t$, it outputs a number between 0 and 1 for each number in the cell state $C_{t−1}$. A 1 represents “completely keep this” while a 0 represents “completely get rid of this."
   ]
  },
  {
   "cell_type": "markdown",
   "metadata": {},
   "source": [
    "## Input Gate\n",
    "![title](img/inputgate.png) <br>\n",
    "$$i_t = \\sigma(W_i * h_{t-1} + U_i * x_t + b_i) $$\n",
    "$$ \\tilde{C_t} = tanh(W_C * h_{t-1} + U_c * x_t + b_c) $$\n",
    "The input gate decides what new information we’re going to store in the cell state. First, a sigmoid layer decides which values we’ll update. Next, a tanh layer creates a vector of new candidate values, $\\tilde{C_t} $, that could be added to the state."
   ]
  },
  {
   "cell_type": "markdown",
   "metadata": {},
   "source": [
    "![title](img/updatecellstate.png) <br>\n",
    "$$ {C_t} = f_t * C_{t-1} + i_t * \\tilde{C_t} $$\n",
    "We now update the cell state $C_{t−1}$. To do this, we multiply the old state by $f_t$, forgetting the things we decided to forget earlier. Then we add it to $i_t * \\tilde{C_t} $. This is the new candidate values, scaled by how much we decided to update each state value."
   ]
  },
  {
   "cell_type": "markdown",
   "metadata": {},
   "source": [
    "## Output Gate\n",
    "![title](img/outputgate.png) <br>\n",
    "$$o_t = \\sigma(W_o * h_{t-1} + U_o * x_t + b_o) $$\n",
    "$$h_t = o_t * tanh(C_t) $$\n",
    "Finally, we need to decide what we’re going to output. This output will be based on our cell state, but will be a filtered version. First, we run a sigmoid layer which decides what parts of the cell state we’re going to output. Then, we put the cell state through tanhtanh (to push the values to be between −1 and 1) and multiply it by the output of the sigmoid gate, so that we only output the parts we decided to."
   ]
  },
  {
   "cell_type": "markdown",
   "metadata": {},
   "source": [
    "# LSTM Example (Keras)"
   ]
  },
  {
   "cell_type": "code",
   "execution_count": 69,
   "metadata": {
    "ExecuteTime": {
     "end_time": "2017-12-28T20:35:23.918681Z",
     "start_time": "2017-12-28T20:35:23.911527Z"
    },
    "collapsed": false
   },
   "outputs": [],
   "source": [
    "import numpy as np\n",
    "\n",
    "from keras.models import Sequential\n",
    "from keras.layers import Dense, LSTM, Dropout\n",
    "from sklearn.preprocessing import MinMaxScaler\n",
    "\n",
    "import matplotlib.pyplot as plt"
   ]
  },
  {
   "cell_type": "code",
   "execution_count": 63,
   "metadata": {
    "ExecuteTime": {
     "end_time": "2017-12-28T20:31:38.210996Z",
     "start_time": "2017-12-28T20:31:37.687869Z"
    },
    "collapsed": false
   },
   "outputs": [
    {
     "data": {
      "image/png": "[encoded data removed]",
      "text/plain": [
       "<matplotlib.figure.Figure at 0x11e4b1438>"
      ]
     },
     "metadata": {},
     "output_type": "display_data"
    }
   ],
   "source": [
    "#Plotting Cosine Graph\n",
    "plt.figure(figsize=(12,5))\n",
    "dataset = np.cos(np.arange(1000)*(20*np.pi/1000))[:,None]\n",
    "plt.plot(np.arange(len(dataset)), dataset)\n",
    "plt.show()"
   ]
  },
  {
   "cell_type": "code",
   "execution_count": 54,
   "metadata": {
    "ExecuteTime": {
     "end_time": "2017-12-28T20:24:09.582398Z",
     "start_time": "2017-12-28T20:24:09.576444Z"
    },
    "collapsed": true
   },
   "outputs": [],
   "source": [
    "# convert an array of values into a dataset matrix\n",
    "def create_dataset(dataset, look_back=1):\n",
    "    dataX, dataY = [], []\n",
    "    for i in range(len(dataset)-look_back):\n",
    "        dataX.append(dataset[i:(i+look_back), 0])\n",
    "        dataY.append(dataset[i + look_back, 0])\n",
    "    return np.array(dataX), np.array(dataY)"
   ]
  },
  {
   "cell_type": "code",
   "execution_count": 55,
   "metadata": {
    "ExecuteTime": {
     "end_time": "2017-12-28T20:25:35.364792Z",
     "start_time": "2017-12-28T20:25:35.241304Z"
    },
    "collapsed": true
   },
   "outputs": [],
   "source": [
    "look_back = 20\n",
    "scaler = MinMaxScaler(feature_range=(0, 1))\n",
    "dataset = scaler.fit_transform(dataset)\n",
    "# split into train and test sets\n",
    "train_size = int(len(dataset) * 0.67)\n",
    "test_size = len(dataset) - train_size\n",
    "train, test = dataset[0:train_size,:], dataset[train_size:len(dataset),:]\n",
    "\n",
    "trainX, trainY = create_dataset(train, look_back)\n",
    "testX, testY = create_dataset(test, look_back)\n",
    "\n",
    "trainX = np.reshape(trainX, (trainX.shape[0], trainX.shape[1], 1))\n",
    "testX = np.reshape(testX, (testX.shape[0], testX.shape[1], 1))"
   ]
  },
  {
   "cell_type": "code",
   "execution_count": 72,
   "metadata": {
    "ExecuteTime": {
     "end_time": "2017-12-29T03:44:33.715584Z",
     "start_time": "2017-12-29T03:43:59.298300Z"
    },
    "collapsed": false
   },
   "outputs": [
    {
     "name": "stdout",
     "output_type": "stream",
     "text": [
      "Epoch 1/20\n",
      "3s - loss: 0.1287\n",
      "Epoch 2/20\n",
      "1s - loss: 0.0370\n",
      "Epoch 3/20\n",
      "0s - loss: 0.0256\n",
      "Epoch 4/20\n",
      "0s - loss: 0.0137\n",
      "Epoch 5/20\n",
      "1s - loss: 0.0082\n",
      "Epoch 6/20\n",
      "0s - loss: 0.0075\n",
      "Epoch 7/20\n",
      "1s - loss: 0.0067\n",
      "Epoch 8/20\n",
      "0s - loss: 0.0056\n",
      "Epoch 9/20\n",
      "0s - loss: 0.0055\n",
      "Epoch 10/20\n",
      "0s - loss: 0.0054\n",
      "Epoch 11/20\n",
      "0s - loss: 0.0061\n",
      "Epoch 12/20\n",
      "1s - loss: 0.0060\n",
      "Epoch 13/20\n",
      "1s - loss: 0.0051\n",
      "Epoch 14/20\n",
      "0s - loss: 0.0045\n",
      "Epoch 15/20\n",
      "0s - loss: 0.0051\n",
      "Epoch 16/20\n",
      "0s - loss: 0.0040\n",
      "Epoch 17/20\n",
      "1s - loss: 0.0042\n",
      "Epoch 18/20\n",
      "1s - loss: 0.0046\n",
      "Epoch 19/20\n",
      "0s - loss: 0.0047\n",
      "Epoch 20/20\n",
      "0s - loss: 0.0043\n"
     ]
    },
    {
     "data": {
      "text/plain": [
       "<keras.callbacks.History at 0x123baf1d0>"
      ]
     },
     "execution_count": 72,
     "metadata": {},
     "output_type": "execute_result"
    }
   ],
   "source": [
    "#Actual Keras code for model\n",
    "batch_size = 16\n",
    "model = Sequential()\n",
    "model.add(LSTM(32,input_shape=(None, 1)))\n",
    "model.add(Dropout(0.3))\n",
    "model.add(Dense(1))\n",
    "model.compile(loss='mean_squared_error', optimizer='adam')\n",
    "model.fit(trainX, trainY, epochs=20, batch_size=batch_size, verbose=2)"
   ]
  },
  {
   "cell_type": "code",
   "execution_count": 73,
   "metadata": {
    "ExecuteTime": {
     "end_time": "2017-12-29T03:44:35.352870Z",
     "start_time": "2017-12-29T03:44:33.718328Z"
    },
    "collapsed": false
   },
   "outputs": [
    {
     "data": {
      "image/png": "[encoded data removed]",
      "text/plain": [
       "<matplotlib.figure.Figure at 0x1248507b8>"
      ]
     },
     "metadata": {},
     "output_type": "display_data"
    }
   ],
   "source": [
    "look_ahead = 250\n",
    "trainPredict = [np.vstack([trainX[-1][1:], trainY[-1]])]\n",
    "predictions = np.zeros((look_ahead,1))\n",
    "for i in range(look_ahead):\n",
    "    prediction = model.predict(np.array([trainPredict[-1]]), batch_size=batch_size)\n",
    "    predictions[i] = prediction\n",
    "    trainPredict.append(np.vstack([trainPredict[-1][1:],prediction]))\n",
    "plt.figure(figsize=(12,5))\n",
    "plt.plot(np.arange(look_ahead),predictions,'r',label=\"prediction\")\n",
    "plt.plot(np.arange(look_ahead),dataset[train_size:(train_size+look_ahead)],label=\"test function\")\n",
    "plt.legend()\n",
    "plt.show()"
   ]
  },
  {
   "cell_type": "markdown",
   "metadata": {},
   "source": [
    "# Keras LSTM Exercise"
   ]
  },
  {
   "cell_type": "markdown",
   "metadata": {},
   "source": [
    "Remake the example above for a character level RNN using Keras and LSTM Layers"
   ]
  }
 ],
 "metadata": {
  "kernelspec": {
   "display_name": "Python 3",
   "language": "python",
   "name": "python3"
  },
  "language_info": {
   "codemirror_mode": {
    "name": "ipython",
    "version": 3
   },
   "file_extension": ".py",
   "mimetype": "text/x-python",
   "name": "python",
   "nbconvert_exporter": "python",
   "pygments_lexer": "ipython3",
   "version": "3.6.0"
  }
 },
 "nbformat": 4,
 "nbformat_minor": 2
}
